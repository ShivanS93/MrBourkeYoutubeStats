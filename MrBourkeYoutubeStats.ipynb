{
 "cells": [
  {
   "cell_type": "code",
   "execution_count": 1,
   "metadata": {},
   "outputs": [],
   "source": [
    "import pandas as pd\n",
    "import matplotlib.pyplot as plt\n",
    "\n",
    "%matplotlib inline\n",
    "\n",
    "import os\n",
    "import requests\n",
    "import json\n",
    "import math\n",
    "\n",
    "import googleapiclient.discovery\n",
    "import googleapiclient.errors"
   ]
  },
  {
   "cell_type": "code",
   "execution_count": 2,
   "metadata": {},
   "outputs": [],
   "source": [
    "%run setAPIkey.py"
   ]
  },
  {
   "cell_type": "code",
   "execution_count": 3,
   "metadata": {},
   "outputs": [],
   "source": [
    "API_KEY = os.getenv('YT_API')"
   ]
  },
  {
   "cell_type": "code",
   "execution_count": 4,
   "metadata": {},
   "outputs": [],
   "source": [
    "api_service_name = 'youtube'\n",
    "api_version = 'v3'\n",
    "youtube = googleapiclient.discovery.build(api_service_name, api_version, developerKey=API_KEY)"
   ]
  },
  {
   "cell_type": "code",
   "execution_count": 5,
   "metadata": {},
   "outputs": [],
   "source": [
    "channel_ID = 'UCr8O8l5cCX85Oem1d18EezQ' # Daniel Bourke's channel ID\n",
    "\n",
    "channel_request = youtube.channels().list(\n",
    "    part='snippet,contentDetails',\n",
    "    id=channel_ID\n",
    ")\n",
    "channel_res = channel_request.execute()\n",
    "#channel_res"
   ]
  },
  {
   "cell_type": "code",
   "execution_count": 6,
   "metadata": {},
   "outputs": [],
   "source": [
    "uploadPlaylist_ID = channel_res['items'][0]['contentDetails']['relatedPlaylists']['uploads']\n",
    "#print('Upload Playlist ID: ' + uploadPlaylist_ID)"
   ]
  },
  {
   "cell_type": "code",
   "execution_count": 7,
   "metadata": {},
   "outputs": [],
   "source": [
    "def playlist_requester(pageToken=None,uploadPlaylist_ID=uploadPlaylist_ID):\n",
    "    playlist_request = youtube.playlistItems().list(\n",
    "        part='snippet,contentDetails',\n",
    "        maxResults=50,\n",
    "        pageToken=pageToken,\n",
    "        playlistId=uploadPlaylist_ID\n",
    "    )\n",
    "    playlist_res = playlist_request.execute()\n",
    "    \n",
    "    return playlist_res\n",
    "\n",
    "playlist_res = playlist_requester()"
   ]
  },
  {
   "cell_type": "code",
   "execution_count": 8,
   "metadata": {},
   "outputs": [
    {
     "name": "stdout",
     "output_type": "stream",
     "text": [
      "251 CDIQAA\n",
      "50\n"
     ]
    }
   ],
   "source": [
    "TOTAL_UPLOADS = playlist_res['pageInfo']['totalResults']\n",
    "nextPageToken = playlist_res['nextPageToken']\n",
    "print(TOTAL_UPLOADS, nextPageToken)\n",
    "\n",
    "listOfVideo_IDs = [ video_ID['contentDetails']['videoId'] for video_ID in playlist_res['items'] ] # first 50\n",
    "print(len(listOfVideo_IDs))\n",
    "#listOfVideo_IDs"
   ]
  },
  {
   "cell_type": "code",
   "execution_count": 9,
   "metadata": {},
   "outputs": [
    {
     "name": "stdout",
     "output_type": "stream",
     "text": [
      "Number of Uploaded Videos: 100\n",
      "Number of Uploaded Videos: 150\n",
      "Number of Uploaded Videos: 200\n",
      "Number of Uploaded Videos: 250\n",
      "Number of Uploaded Videos: 251\n"
     ]
    }
   ],
   "source": [
    "while TOTAL_UPLOADS > len(listOfVideo_IDs):\n",
    "    \n",
    "    # going through pages and extending list of video IDs\n",
    "    \n",
    "    nextpage_playlist_res = playlist_requester(nextPageToken)\n",
    "    listOfVideo_IDs.extend([ video_ID['contentDetails']['videoId'] for video_ID in nextpage_playlist_res['items'] \n",
    "                            if video_ID['contentDetails']['videoId'] not in listOfVideo_IDs ]) # extend() for lists / #append only does one item at ta time / concating lists with + is very intenstive according to \"Python for Data Analysis\"\n",
    "    if 'nextPageToken' in nextpage_playlist_res:\n",
    "        nextPageToken = nextpage_playlist_res['nextPageToken']\n",
    "    print('Number of Uploaded Videos: ' + str(len(listOfVideo_IDs)))\n",
    "    #print(nextPageToken)"
   ]
  },
  {
   "cell_type": "code",
   "execution_count": 17,
   "metadata": {},
   "outputs": [
    {
     "name": "stdout",
     "output_type": "stream",
     "text": [
      "50\n",
      "50\n",
      "50\n",
      "50\n",
      "50\n",
      "1\n"
     ]
    },
    {
     "data": {
      "text/plain": [
       "['6823',\n",
       " '6765',\n",
       " '8977',\n",
       " '216178',\n",
       " '5466',\n",
       " '48030',\n",
       " '196443',\n",
       " '2435',\n",
       " '4312',\n",
       " '3612',\n",
       " '5249',\n",
       " '6443',\n",
       " '111028',\n",
       " '2222',\n",
       " '2092',\n",
       " '910',\n",
       " '12958',\n",
       " '717',\n",
       " '711',\n",
       " '550',\n",
       " '1049',\n",
       " '694',\n",
       " '529',\n",
       " '937',\n",
       " '2432',\n",
       " '563',\n",
       " '543',\n",
       " '472',\n",
       " '478',\n",
       " '1493',\n",
       " '994',\n",
       " '661',\n",
       " '152440',\n",
       " '594',\n",
       " '3166',\n",
       " '2619',\n",
       " '461',\n",
       " '538',\n",
       " '1644',\n",
       " '562',\n",
       " '605',\n",
       " '627',\n",
       " '623',\n",
       " '708',\n",
       " '624',\n",
       " '1674',\n",
       " '1674',\n",
       " '892',\n",
       " '2531',\n",
       " '2603',\n",
       " '20195',\n",
       " '3862',\n",
       " '1535',\n",
       " '7742',\n",
       " '970',\n",
       " '13010',\n",
       " '968',\n",
       " '5679',\n",
       " '3954',\n",
       " '6107',\n",
       " '2259',\n",
       " '2385',\n",
       " '1840',\n",
       " '1967',\n",
       " '2128',\n",
       " '17212',\n",
       " '7229',\n",
       " '426093',\n",
       " '95970',\n",
       " '1841',\n",
       " '95240',\n",
       " '3588',\n",
       " '4036',\n",
       " '1861',\n",
       " '2505',\n",
       " '4037',\n",
       " '2860',\n",
       " '9069',\n",
       " '3072',\n",
       " '8719',\n",
       " '2954',\n",
       " '22828',\n",
       " '2090',\n",
       " '1930',\n",
       " '2220',\n",
       " '200404',\n",
       " '2109',\n",
       " '2738',\n",
       " '43203',\n",
       " '3022',\n",
       " '14106',\n",
       " '2693',\n",
       " '24163',\n",
       " '19686',\n",
       " '22459',\n",
       " '978',\n",
       " '631',\n",
       " '4447',\n",
       " '1967',\n",
       " '4547',\n",
       " '7401',\n",
       " '46038',\n",
       " '7526',\n",
       " '32784',\n",
       " '11655',\n",
       " '1490',\n",
       " '527',\n",
       " '674',\n",
       " '1469',\n",
       " '1620',\n",
       " '2771',\n",
       " '1094',\n",
       " '2239',\n",
       " '265',\n",
       " '1274',\n",
       " '11762',\n",
       " '3423',\n",
       " '2633',\n",
       " '1474',\n",
       " '9686',\n",
       " '17117',\n",
       " '2916',\n",
       " '151138',\n",
       " '14224',\n",
       " '1218',\n",
       " '3077',\n",
       " '1747',\n",
       " '1773',\n",
       " '3748',\n",
       " '9546',\n",
       " '19836',\n",
       " '1830',\n",
       " '2034',\n",
       " '19855',\n",
       " '506',\n",
       " '186',\n",
       " '3515',\n",
       " '232',\n",
       " '658',\n",
       " '1603',\n",
       " '305',\n",
       " '425',\n",
       " '4134',\n",
       " '486',\n",
       " '1742',\n",
       " '2028',\n",
       " '813',\n",
       " '797',\n",
       " '1783',\n",
       " '4988',\n",
       " '1889',\n",
       " '3013',\n",
       " '27073',\n",
       " '1343',\n",
       " '45797',\n",
       " '664',\n",
       " '771',\n",
       " '2972',\n",
       " '4017',\n",
       " '1631',\n",
       " '3011',\n",
       " '18788',\n",
       " '632',\n",
       " '489',\n",
       " '2174',\n",
       " '1168',\n",
       " '2101',\n",
       " '1042',\n",
       " '422',\n",
       " '5549',\n",
       " '1464',\n",
       " '2035',\n",
       " '1676',\n",
       " '113',\n",
       " '378',\n",
       " '292',\n",
       " '518',\n",
       " '434',\n",
       " '73',\n",
       " '339',\n",
       " '413',\n",
       " '3770',\n",
       " '844',\n",
       " '136',\n",
       " '11343',\n",
       " '1276',\n",
       " '351',\n",
       " '159',\n",
       " '2807',\n",
       " '450',\n",
       " '590',\n",
       " '139',\n",
       " '1578',\n",
       " '105',\n",
       " '81',\n",
       " '205',\n",
       " '10630',\n",
       " '212',\n",
       " '753',\n",
       " '14294',\n",
       " '9272',\n",
       " '292',\n",
       " '649',\n",
       " '244',\n",
       " '100',\n",
       " '227',\n",
       " '675',\n",
       " '120',\n",
       " '38',\n",
       " '39',\n",
       " '53',\n",
       " '735',\n",
       " '409',\n",
       " '90',\n",
       " '222',\n",
       " '211',\n",
       " '1939',\n",
       " '119',\n",
       " '264',\n",
       " '27',\n",
       " '39',\n",
       " '44',\n",
       " '468',\n",
       " '1946',\n",
       " '4596',\n",
       " '84',\n",
       " '303',\n",
       " '151',\n",
       " '136',\n",
       " '1870',\n",
       " '55',\n",
       " '61',\n",
       " '70',\n",
       " '31',\n",
       " '390',\n",
       " '392',\n",
       " '1217',\n",
       " '284',\n",
       " '193',\n",
       " '127',\n",
       " '98',\n",
       " '130',\n",
       " '111',\n",
       " '217',\n",
       " '388',\n",
       " '10174',\n",
       " '2760',\n",
       " '330',\n",
       " '353',\n",
       " '456',\n",
       " '248']"
      ]
     },
     "execution_count": 17,
     "metadata": {},
     "output_type": "execute_result"
    }
   ],
   "source": [
    "listOfTitles = []\n",
    "listOfTags = []\n",
    "listOfViews = []\n",
    "listOfLikes = []\n",
    "listOfDislikes = []\n",
    "listOfComments = []\n",
    "\n",
    "for i in range(math.ceil(len(listOfVideo_IDs)/50)):\n",
    "    video_request = youtube.videos().list(\n",
    "        part='snippet,contentDetails,statistics',\n",
    "        id=listOfVideo_IDs[50*i:50*(i+1)]\n",
    "    )\n",
    "    video_response = video_request.execute()\n",
    "\n",
    "    for vid in video_response['items']:\n",
    "        listOfTitles.append(vid['snippet']['title'])\n",
    "        #listOfTags.append(vid['snippet']['tags'])\n",
    "        listOfViews.append(vid['statistics']['viewCount'])\n",
    "        listOfLikes.append(vid['statistics']['likeCount'])\n",
    "        listOfDislikes.append(vid['statistics']['dislikeCount'])\n",
    "        listOfComments.append(vid['statistics']['commentCount'])\n",
    " \n",
    "    print(len(video_response['items']))\n",
    "    \n",
    "listOfViews\n"
   ]
  },
  {
   "cell_type": "code",
   "execution_count": null,
   "metadata": {},
   "outputs": [],
   "source": [
    "#listOfVideo_IDs\n",
    "#for vid_id in listOfVideo_IDs\n",
    "video_request = youtube.videos().list(\n",
    "    part='snippet,contentDetails,statistics',\n",
    "    id=listOfVideo_IDs[15]\n",
    ")\n",
    "video_response = video_request.execute()\n",
    "video_response"
   ]
  },
  {
   "cell_type": "code",
   "execution_count": null,
   "metadata": {},
   "outputs": [],
   "source": [
    "#listOfTitles\n",
    "video_response['items'][0]['snippet']['title']"
   ]
  },
  {
   "cell_type": "code",
   "execution_count": 14,
   "metadata": {},
   "outputs": [
    {
     "data": {
      "text/plain": [
       "['self supervised learning machine learning',\n",
       " 'machine learning',\n",
       " 'machine learning engineer',\n",
       " 'machine learning monthly',\n",
       " 'semi supervised learning machine learning']"
      ]
     },
     "execution_count": 14,
     "metadata": {},
     "output_type": "execute_result"
    }
   ],
   "source": [
    "#listOfTags\n",
    "video_response['items'][0]['snippet']['tags']"
   ]
  },
  {
   "cell_type": "code",
   "execution_count": null,
   "metadata": {},
   "outputs": [],
   "source": [
    "#listOfViews\n",
    "video_response['items'][0]['statistics']['viewCount']"
   ]
  },
  {
   "cell_type": "code",
   "execution_count": null,
   "metadata": {},
   "outputs": [],
   "source": [
    "#listOfLikes\n",
    "video_response['items'][0]['statistics']['likeCount']"
   ]
  },
  {
   "cell_type": "code",
   "execution_count": null,
   "metadata": {},
   "outputs": [],
   "source": [
    "#listOfDislikes\n",
    "video_response['items'][0]['statistics']['dislikeCount']"
   ]
  },
  {
   "cell_type": "code",
   "execution_count": null,
   "metadata": {},
   "outputs": [],
   "source": [
    "#listOfComments\n",
    "video_response['items'][0]['statistics']['commentCount']"
   ]
  },
  {
   "cell_type": "code",
   "execution_count": null,
   "metadata": {},
   "outputs": [],
   "source": []
  }
 ],
 "metadata": {
  "kernelspec": {
   "display_name": "Python 3",
   "language": "python",
   "name": "python3"
  },
  "language_info": {
   "codemirror_mode": {
    "name": "ipython",
    "version": 3
   },
   "file_extension": ".py",
   "mimetype": "text/x-python",
   "name": "python",
   "nbconvert_exporter": "python",
   "pygments_lexer": "ipython3",
   "version": "3.7.4"
  }
 },
 "nbformat": 4,
 "nbformat_minor": 4
}
