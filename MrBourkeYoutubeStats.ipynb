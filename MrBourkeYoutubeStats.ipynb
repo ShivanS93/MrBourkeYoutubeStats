{
 "cells": [
  {
   "cell_type": "markdown",
   "metadata": {},
   "source": [
    "# MrBourkeYoutubeStats.ipynb\n",
    "\n",
    "## Let me tell you a story...\n",
    "We are going to explore [Daniel Bourke's youtube channel](https://www.youtube.com/channel/UCr8O8l5cCX85Oem1d18EezQ \"mrdbourke\").\n",
    "\n",
    "Specfically, we are going to look at the different types of videos he has for who. His videos seem to follow two broad topics: machine learning for what he is known for and health and fitness.\n",
    "\n",
    "I want to look at the popularity based on number of views of his machine learning orientated videos compared to his fitness and health related videos.\n",
    "\n",
    "## Aims\n",
    "- Pull data from youtube API to see view counts for all his videos\n",
    "- Classify his videos between machine learning and fitness/health\n",
    "- Come up with some way of visualising the difference in popularity (based on view count)"
   ]
  },
  {
   "cell_type": "code",
   "execution_count": 135,
   "metadata": {},
   "outputs": [],
   "source": [
    "import pandas as pd\n",
    "import matplotlib.pyplot as plt\n",
    "import numpy as np\n",
    "import random as r\n",
    "import seaborn as sns\n",
    "\n",
    "%matplotlib inline\n",
    "\n",
    "import os\n",
    "import requests\n",
    "import math\n",
    "import re\n",
    "\n",
    "from datetime import date, time, datetime\n",
    "\n",
    "import googleapiclient.discovery\n",
    "import googleapiclient.errors"
   ]
  },
  {
   "cell_type": "code",
   "execution_count": 2,
   "metadata": {},
   "outputs": [],
   "source": [
    "%run setAPIkey.py"
   ]
  },
  {
   "cell_type": "code",
   "execution_count": 3,
   "metadata": {},
   "outputs": [],
   "source": [
    "API_KEY = os.getenv('YT_API')"
   ]
  },
  {
   "cell_type": "code",
   "execution_count": 27,
   "metadata": {},
   "outputs": [],
   "source": [
    "api_service_name = 'youtube'\n",
    "api_version = 'v3'\n",
    "youtube = googleapiclient.discovery.build(api_service_name, api_version, developerKey=API_KEY)"
   ]
  },
  {
   "cell_type": "code",
   "execution_count": 5,
   "metadata": {},
   "outputs": [],
   "source": [
    "channel_ID = 'UCr8O8l5cCX85Oem1d18EezQ' # Daniel Bourke's channel ID\n",
    "\n",
    "channel_request = youtube.channels().list(\n",
    "    part='snippet,contentDetails',\n",
    "    id=channel_ID\n",
    ")\n",
    "channel_res = channel_request.execute()\n",
    "#channel_res"
   ]
  },
  {
   "cell_type": "code",
   "execution_count": 6,
   "metadata": {},
   "outputs": [],
   "source": [
    "uploadPlaylist_ID = channel_res['items'][0]['contentDetails']['relatedPlaylists']['uploads']\n",
    "#print('Upload Playlist ID: ' + uploadPlaylist_ID)"
   ]
  },
  {
   "cell_type": "code",
   "execution_count": 7,
   "metadata": {},
   "outputs": [],
   "source": [
    "def playlist_requester(pageToken=None,uploadPlaylist_ID=uploadPlaylist_ID):\n",
    "    playlist_request = youtube.playlistItems().list(\n",
    "        part='snippet,contentDetails',\n",
    "        maxResults=50,\n",
    "        pageToken=pageToken,\n",
    "        playlistId=uploadPlaylist_ID\n",
    "    )\n",
    "    playlist_res = playlist_request.execute()\n",
    "    \n",
    "    return playlist_res\n",
    "\n",
    "playlist_res = playlist_requester()"
   ]
  },
  {
   "cell_type": "code",
   "execution_count": 8,
   "metadata": {},
   "outputs": [
    {
     "name": "stdout",
     "output_type": "stream",
     "text": [
      "50\n"
     ]
    }
   ],
   "source": [
    "TOTAL_UPLOADS = playlist_res['pageInfo']['totalResults']\n",
    "nextPageToken = playlist_res['nextPageToken']\n",
    "#print(TOTAL_UPLOADS, nextPageToken)\n",
    "\n",
    "listOfVideo_IDs = [ video_ID['contentDetails']['videoId'] for video_ID in playlist_res['items'] ] # first 50\n",
    "print(len(listOfVideo_IDs))\n",
    "#listOfVideo_IDs"
   ]
  },
  {
   "cell_type": "code",
   "execution_count": 9,
   "metadata": {},
   "outputs": [
    {
     "name": "stdout",
     "output_type": "stream",
     "text": [
      "Number of Uploaded Videos: 100\n",
      "Number of Uploaded Videos: 150\n",
      "Number of Uploaded Videos: 200\n",
      "Number of Uploaded Videos: 250\n",
      "Number of Uploaded Videos: 251\n"
     ]
    }
   ],
   "source": [
    "while TOTAL_UPLOADS > len(listOfVideo_IDs):\n",
    "    \n",
    "    # going through pages and extending list of video IDs\n",
    "    \n",
    "    nextpage_playlist_res = playlist_requester(nextPageToken)\n",
    "    listOfVideo_IDs.extend([ video_ID['contentDetails']['videoId'] for video_ID in nextpage_playlist_res['items'] \n",
    "                            if video_ID['contentDetails']['videoId'] not in listOfVideo_IDs ]) # extend() for lists / #append only does one item at ta time / concating lists with + is very intenstive according to \"Python for Data Analysis\"\n",
    "    if 'nextPageToken' in nextpage_playlist_res:\n",
    "        nextPageToken = nextpage_playlist_res['nextPageToken']\n",
    "    print('Number of Uploaded Videos: ' + str(len(listOfVideo_IDs)))\n",
    "    #print(nextPageToken)"
   ]
  },
  {
   "cell_type": "code",
   "execution_count": 10,
   "metadata": {},
   "outputs": [],
   "source": [
    "df = pd.DataFrame()\n",
    "\n",
    "for i in range(math.ceil(len(listOfVideo_IDs)/50)):\n",
    "    video_request = youtube.videos().list(\n",
    "        part='snippet,contentDetails,statistics',\n",
    "        id=listOfVideo_IDs[50*i:50*(i+1)]\n",
    "    )\n",
    "    video_response = video_request.execute()\n",
    "\n",
    "    sub_df = pd.json_normalize(video_response, 'items')\n",
    "    frames = [df, sub_df]\n",
    "    df = pd.concat(frames)"
   ]
  },
  {
   "cell_type": "code",
   "execution_count": 11,
   "metadata": {},
   "outputs": [
    {
     "data": {
      "text/html": [
       "<div>\n",
       "<style scoped>\n",
       "    .dataframe tbody tr th:only-of-type {\n",
       "        vertical-align: middle;\n",
       "    }\n",
       "\n",
       "    .dataframe tbody tr th {\n",
       "        vertical-align: top;\n",
       "    }\n",
       "\n",
       "    .dataframe thead th {\n",
       "        text-align: right;\n",
       "    }\n",
       "</style>\n",
       "<table border=\"1\" class=\"dataframe\">\n",
       "  <thead>\n",
       "    <tr style=\"text-align: right;\">\n",
       "      <th></th>\n",
       "      <th>kind</th>\n",
       "      <th>etag</th>\n",
       "      <th>id</th>\n",
       "      <th>snippet.publishedAt</th>\n",
       "      <th>snippet.channelId</th>\n",
       "      <th>snippet.title</th>\n",
       "      <th>snippet.description</th>\n",
       "      <th>snippet.thumbnails.default.url</th>\n",
       "      <th>snippet.thumbnails.default.width</th>\n",
       "      <th>snippet.thumbnails.default.height</th>\n",
       "      <th>...</th>\n",
       "      <th>contentDetails.caption</th>\n",
       "      <th>contentDetails.licensedContent</th>\n",
       "      <th>contentDetails.projection</th>\n",
       "      <th>statistics.viewCount</th>\n",
       "      <th>statistics.likeCount</th>\n",
       "      <th>statistics.dislikeCount</th>\n",
       "      <th>statistics.favoriteCount</th>\n",
       "      <th>statistics.commentCount</th>\n",
       "      <th>snippet.defaultAudioLanguage</th>\n",
       "      <th>contentDetails.regionRestriction.blocked</th>\n",
       "    </tr>\n",
       "  </thead>\n",
       "  <tbody>\n",
       "    <tr>\n",
       "      <th>0</th>\n",
       "      <td>youtube#video</td>\n",
       "      <td>A5IJfM69pQm2pGduaQ8CYLfS5DU</td>\n",
       "      <td>3IKWukTiBfc</td>\n",
       "      <td>2020-08-09T06:06:03Z</td>\n",
       "      <td>UCr8O8l5cCX85Oem1d18EezQ</td>\n",
       "      <td>The future will not be supervised... | Machine...</td>\n",
       "      <td>This month has been all about GPT3 and self-su...</td>\n",
       "      <td>https://i.ytimg.com/vi/3IKWukTiBfc/default.jpg</td>\n",
       "      <td>120</td>\n",
       "      <td>90</td>\n",
       "      <td>...</td>\n",
       "      <td>false</td>\n",
       "      <td>True</td>\n",
       "      <td>rectangular</td>\n",
       "      <td>7109</td>\n",
       "      <td>273</td>\n",
       "      <td>1</td>\n",
       "      <td>0</td>\n",
       "      <td>36</td>\n",
       "      <td>NaN</td>\n",
       "      <td>NaN</td>\n",
       "    </tr>\n",
       "    <tr>\n",
       "      <th>1</th>\n",
       "      <td>youtube#video</td>\n",
       "      <td>anPNP5XyvYIHH2dw93OBuxeZCsk</td>\n",
       "      <td>8JTKX09LzNc</td>\n",
       "      <td>2020-08-06T00:29:48Z</td>\n",
       "      <td>UCr8O8l5cCX85Oem1d18EezQ</td>\n",
       "      <td>Are courses enough for a job? | Machine learni...</td>\n",
       "      <td>Let's talk machine learning, health, business ...</td>\n",
       "      <td>https://i.ytimg.com/vi/8JTKX09LzNc/default.jpg</td>\n",
       "      <td>120</td>\n",
       "      <td>90</td>\n",
       "      <td>...</td>\n",
       "      <td>false</td>\n",
       "      <td>True</td>\n",
       "      <td>rectangular</td>\n",
       "      <td>7020</td>\n",
       "      <td>302</td>\n",
       "      <td>9</td>\n",
       "      <td>0</td>\n",
       "      <td>25</td>\n",
       "      <td>NaN</td>\n",
       "      <td>NaN</td>\n",
       "    </tr>\n",
       "  </tbody>\n",
       "</table>\n",
       "<p>2 rows × 41 columns</p>\n",
       "</div>"
      ],
      "text/plain": [
       "            kind                         etag           id  \\\n",
       "0  youtube#video  A5IJfM69pQm2pGduaQ8CYLfS5DU  3IKWukTiBfc   \n",
       "1  youtube#video  anPNP5XyvYIHH2dw93OBuxeZCsk  8JTKX09LzNc   \n",
       "\n",
       "    snippet.publishedAt         snippet.channelId  \\\n",
       "0  2020-08-09T06:06:03Z  UCr8O8l5cCX85Oem1d18EezQ   \n",
       "1  2020-08-06T00:29:48Z  UCr8O8l5cCX85Oem1d18EezQ   \n",
       "\n",
       "                                       snippet.title  \\\n",
       "0  The future will not be supervised... | Machine...   \n",
       "1  Are courses enough for a job? | Machine learni...   \n",
       "\n",
       "                                 snippet.description  \\\n",
       "0  This month has been all about GPT3 and self-su...   \n",
       "1  Let's talk machine learning, health, business ...   \n",
       "\n",
       "                   snippet.thumbnails.default.url  \\\n",
       "0  https://i.ytimg.com/vi/3IKWukTiBfc/default.jpg   \n",
       "1  https://i.ytimg.com/vi/8JTKX09LzNc/default.jpg   \n",
       "\n",
       "   snippet.thumbnails.default.width  snippet.thumbnails.default.height  ...  \\\n",
       "0                               120                                 90  ...   \n",
       "1                               120                                 90  ...   \n",
       "\n",
       "  contentDetails.caption  contentDetails.licensedContent  \\\n",
       "0                  false                            True   \n",
       "1                  false                            True   \n",
       "\n",
       "   contentDetails.projection statistics.viewCount  statistics.likeCount  \\\n",
       "0                rectangular                 7109                   273   \n",
       "1                rectangular                 7020                   302   \n",
       "\n",
       "   statistics.dislikeCount statistics.favoriteCount  statistics.commentCount  \\\n",
       "0                        1                        0                       36   \n",
       "1                        9                        0                       25   \n",
       "\n",
       "   snippet.defaultAudioLanguage contentDetails.regionRestriction.blocked  \n",
       "0                           NaN                                      NaN  \n",
       "1                           NaN                                      NaN  \n",
       "\n",
       "[2 rows x 41 columns]"
      ]
     },
     "execution_count": 11,
     "metadata": {},
     "output_type": "execute_result"
    }
   ],
   "source": [
    "df.head(2)"
   ]
  },
  {
   "cell_type": "code",
   "execution_count": 12,
   "metadata": {},
   "outputs": [
    {
     "data": {
      "text/plain": [
       "(251, 41)"
      ]
     },
     "execution_count": 12,
     "metadata": {},
     "output_type": "execute_result"
    }
   ],
   "source": [
    "#checking dataframe\n",
    "df.shape"
   ]
  },
  {
   "cell_type": "code",
   "execution_count": 13,
   "metadata": {},
   "outputs": [
    {
     "data": {
      "text/plain": [
       "kind                                         object\n",
       "etag                                         object\n",
       "id                                           object\n",
       "snippet.publishedAt                          object\n",
       "snippet.channelId                            object\n",
       "snippet.title                                object\n",
       "snippet.description                          object\n",
       "snippet.thumbnails.default.url               object\n",
       "snippet.thumbnails.default.width              int64\n",
       "snippet.thumbnails.default.height             int64\n",
       "snippet.thumbnails.medium.url                object\n",
       "snippet.thumbnails.medium.width               int64\n",
       "snippet.thumbnails.medium.height              int64\n",
       "snippet.thumbnails.high.url                  object\n",
       "snippet.thumbnails.high.width                 int64\n",
       "snippet.thumbnails.high.height                int64\n",
       "snippet.thumbnails.standard.url              object\n",
       "snippet.thumbnails.standard.width           float64\n",
       "snippet.thumbnails.standard.height          float64\n",
       "snippet.thumbnails.maxres.url                object\n",
       "snippet.thumbnails.maxres.width             float64\n",
       "snippet.thumbnails.maxres.height            float64\n",
       "snippet.channelTitle                         object\n",
       "snippet.tags                                 object\n",
       "snippet.categoryId                           object\n",
       "snippet.liveBroadcastContent                 object\n",
       "snippet.localized.title                      object\n",
       "snippet.localized.description                object\n",
       "contentDetails.duration                      object\n",
       "contentDetails.dimension                     object\n",
       "contentDetails.definition                    object\n",
       "contentDetails.caption                       object\n",
       "contentDetails.licensedContent                 bool\n",
       "contentDetails.projection                    object\n",
       "statistics.viewCount                         object\n",
       "statistics.likeCount                         object\n",
       "statistics.dislikeCount                      object\n",
       "statistics.favoriteCount                     object\n",
       "statistics.commentCount                      object\n",
       "snippet.defaultAudioLanguage                 object\n",
       "contentDetails.regionRestriction.blocked     object\n",
       "dtype: object"
      ]
     },
     "execution_count": 13,
     "metadata": {},
     "output_type": "execute_result"
    }
   ],
   "source": [
    "#exploring different columns\n",
    "df.dtypes"
   ]
  },
  {
   "cell_type": "code",
   "execution_count": 215,
   "metadata": {},
   "outputs": [
    {
     "data": {
      "text/plain": [
       "snippet.title               object\n",
       "snippet.tags                object\n",
       "contentDetails.duration     object\n",
       "statistics.viewCount       float64\n",
       "statistics.likeCount       float64\n",
       "statistics.dislikeCount    float64\n",
       "statistics.commentCount    float64\n",
       "snippet.publishedAt         object\n",
       "dtype: object"
      ]
     },
     "execution_count": 215,
     "metadata": {},
     "output_type": "execute_result"
    }
   ],
   "source": [
    "# contining with most relavant columns\n",
    "df1 = df[['snippet.title', 'snippet.tags', 'contentDetails.duration',\n",
    "       'statistics.viewCount', 'statistics.likeCount', 'statistics.dislikeCount',\n",
    "        'statistics.commentCount', 'snippet.publishedAt']]\n",
    "#df1.ix['statistics.viewCount'] = df1['statistics.viewCount'].astype('int')\n",
    "#df1.head()\n",
    "df1 = df1.astype({'statistics.viewCount': 'float'})\n",
    "df1 = df1.astype({'statistics.likeCount': 'float'})\n",
    "df1 = df1.astype({'statistics.dislikeCount': 'float'})\n",
    "df1 = df1.astype({'statistics.commentCount': 'float'})\n",
    "# df1.astype().dtypes\n",
    "df1.dtypes"
   ]
  },
  {
   "cell_type": "code",
   "execution_count": 216,
   "metadata": {},
   "outputs": [
    {
     "data": {
      "text/plain": [
       "0     [self supervised learning machine learning, ma...\n",
       "1                                                   NaN\n",
       "2     [ken jee, daniel bourke, what questions get as...\n",
       "3     [machine learning field guide, machine learnin...\n",
       "4     [zero to mastery, machine learning monthly, wh...\n",
       "                            ...                        \n",
       "46    [udacity, coding, python, programming, ai, art...\n",
       "47    [workout music 2016, workout motivation, worko...\n",
       "48    [cooking, recipes, vegetarian, snacks, protein...\n",
       "49    [DIY, fitness, exercise, pullupbar, snapchat, ...\n",
       "0     [xbox, xboxone, gaming, mlg, microsoft, xboxon...\n",
       "Name: snippet.tags, Length: 251, dtype: object"
      ]
     },
     "execution_count": 216,
     "metadata": {},
     "output_type": "execute_result"
    }
   ],
   "source": [
    "# analysing tags \n",
    "tagsds = df['snippet.tags']\n",
    "tagsds"
   ]
  },
  {
   "cell_type": "code",
   "execution_count": 217,
   "metadata": {},
   "outputs": [],
   "source": [
    "s = tagsds.apply(pd.Series).stack().reset_index(drop=True).value_counts()"
   ]
  },
  {
   "cell_type": "code",
   "execution_count": 218,
   "metadata": {},
   "outputs": [
    {
     "data": {
      "text/plain": [
       "daniel bourke                  95\n",
       "fitness                        58\n",
       "machine learning engineer      56\n",
       "learning                       52\n",
       "podcast                        51\n",
       "                               ..\n",
       "natural lanuage processing      1\n",
       "how to eat for bodybuilding     1\n",
       "android                         1\n",
       "how to learn python             1\n",
       "tensorboard                     1\n",
       "Length: 1687, dtype: int64"
      ]
     },
     "execution_count": 218,
     "metadata": {},
     "output_type": "execute_result"
    }
   ],
   "source": [
    "s"
   ]
  },
  {
   "cell_type": "code",
   "execution_count": 219,
   "metadata": {},
   "outputs": [
    {
     "data": {
      "text/plain": [
       "daniel bourke                                 95\n",
       "fitness                                       58\n",
       "machine learning engineer                     56\n",
       "learning                                      52\n",
       "podcast                                       51\n",
       "vlog                                          51\n",
       "life                                          51\n",
       "lessons                                       49\n",
       "machine                                       49\n",
       "entertainment                                 49\n",
       "Daniel Bourke                                 48\n",
       "The Daniel Bourke Show                        47\n",
       "success                                       47\n",
       "fail                                          47\n",
       "college                                       47\n",
       "university                                    47\n",
       "public                                        46\n",
       "The                                           46\n",
       "drop out                                      46\n",
       "speaking                                      46\n",
       "Daniel                                        46\n",
       "Bourke                                        46\n",
       "Show                                          46\n",
       "machine learning                              44\n",
       "mrdbourke                                     34\n",
       "artificial intelligence                       29\n",
       "udacity                                       24\n",
       "deep learning                                 23\n",
       "code                                          19\n",
       "data science                                  17\n",
       "python                                        16\n",
       "100 days of code                              16\n",
       "coursera                                      16\n",
       "coding                                        16\n",
       "udacity nanodegree                            16\n",
       "nanodegree                                    13\n",
       "AI                                            13\n",
       "Udacity Artificial Intelligence Nanodegree    13\n",
       "data scientist                                12\n",
       "udacity deep learning nanodegree              12\n",
       "ai                                            11\n",
       "dtype: int64"
      ]
     },
     "execution_count": 219,
     "metadata": {},
     "output_type": "execute_result"
    }
   ],
   "source": [
    "s[lambda x : x > 10].head(50)"
   ]
  },
  {
   "cell_type": "code",
   "execution_count": 236,
   "metadata": {},
   "outputs": [
    {
     "data": {
      "text/plain": [
       "<matplotlib.axes._subplots.AxesSubplot at 0x1a7f0db55c8>"
      ]
     },
     "execution_count": 236,
     "metadata": {},
     "output_type": "execute_result"
    },
    {
     "data": {
      "image/png": "[encoded data removed]",
      "text/plain": [
       "<Figure size 432x288 with 1 Axes>"
      ]
     },
     "metadata": {},
     "output_type": "display_data"
    }
   ],
   "source": [
    "x = df1['statistics.viewCount']\n",
    "np.log(x).hist()"
   ]
  },
  {
   "cell_type": "code",
   "execution_count": 256,
   "metadata": {},
   "outputs": [
    {
     "name": "stderr",
     "output_type": "stream",
     "text": [
      "C:\\Users\\Shiva\\Anaconda3\\lib\\site-packages\\pandas\\core\\computation\\expressions.py:68: FutureWarning: elementwise comparison failed; returning scalar instead, but in the future will perform elementwise comparison\n",
      "  return op(a, b)\n"
     ]
    },
    {
     "data": {
      "text/html": [
       "<div>\n",
       "<style scoped>\n",
       "    .dataframe tbody tr th:only-of-type {\n",
       "        vertical-align: middle;\n",
       "    }\n",
       "\n",
       "    .dataframe tbody tr th {\n",
       "        vertical-align: top;\n",
       "    }\n",
       "\n",
       "    .dataframe thead th {\n",
       "        text-align: right;\n",
       "    }\n",
       "</style>\n",
       "<table border=\"1\" class=\"dataframe\">\n",
       "  <thead>\n",
       "    <tr style=\"text-align: right;\">\n",
       "      <th></th>\n",
       "      <th>snippet.title</th>\n",
       "      <th>snippet.tags</th>\n",
       "      <th>contentDetails.duration</th>\n",
       "      <th>statistics.viewCount</th>\n",
       "      <th>statistics.likeCount</th>\n",
       "      <th>statistics.dislikeCount</th>\n",
       "      <th>statistics.commentCount</th>\n",
       "      <th>snippet.publishedAt</th>\n",
       "    </tr>\n",
       "  </thead>\n",
       "  <tbody>\n",
       "  </tbody>\n",
       "</table>\n",
       "</div>"
      ],
      "text/plain": [
       "Empty DataFrame\n",
       "Columns: [snippet.title, snippet.tags, contentDetails.duration, statistics.viewCount, statistics.likeCount, statistics.dislikeCount, statistics.commentCount, snippet.publishedAt]\n",
       "Index: []"
      ]
     },
     "execution_count": 256,
     "metadata": {},
     "output_type": "execute_result"
    }
   ],
   "source": [
    "df1[df1['statistics.viewCount']==str(x.max())]"
   ]
  },
  {
   "cell_type": "code",
   "execution_count": 257,
   "metadata": {},
   "outputs": [
    {
     "data": {
      "text/plain": [
       "0      True\n",
       "1       NaN\n",
       "2     False\n",
       "3     False\n",
       "4     False\n",
       "      ...  \n",
       "46     True\n",
       "47    False\n",
       "48    False\n",
       "49    False\n",
       "0     False\n",
       "Name: snippet.tags, Length: 251, dtype: object"
      ]
     },
     "execution_count": 257,
     "metadata": {},
     "output_type": "execute_result"
    }
   ],
   "source": [
    "isML = tagsds.str.contains(pat='machine learning', regex=False)\n",
    "isML"
   ]
  },
  {
   "cell_type": "code",
   "execution_count": 284,
   "metadata": {},
   "outputs": [
    {
     "name": "stderr",
     "output_type": "stream",
     "text": [
      "C:\\Users\\Shiva\\Anaconda3\\lib\\site-packages\\ipykernel_launcher.py:3: SettingWithCopyWarning: \n",
      "A value is trying to be set on a copy of a slice from a DataFrame.\n",
      "Try using .loc[row_indexer,col_indexer] = value instead\n",
      "\n",
      "See the caveats in the documentation: https://pandas.pydata.org/pandas-docs/stable/user_guide/indexing.html#returning-a-view-versus-a-copy\n",
      "  This is separate from the ipykernel package so we can avoid doing imports until\n",
      "C:\\Users\\Shiva\\Anaconda3\\lib\\site-packages\\ipykernel_launcher.py:5: SettingWithCopyWarning: \n",
      "A value is trying to be set on a copy of a slice from a DataFrame.\n",
      "Try using .loc[row_indexer,col_indexer] = value instead\n",
      "\n",
      "See the caveats in the documentation: https://pandas.pydata.org/pandas-docs/stable/user_guide/indexing.html#returning-a-view-versus-a-copy\n",
      "  \"\"\"\n"
     ]
    },
    {
     "data": {
      "text/plain": [
       "2      9.115920\n",
       "3     12.349944\n",
       "4      8.612140\n",
       "7      7.804659\n",
       "9      8.198639\n",
       "        ...    \n",
       "44     5.963579\n",
       "47     5.805135\n",
       "48     5.869297\n",
       "49     6.133398\n",
       "0      5.521461\n",
       "Name: statistics.viewCount, Length: 194, dtype: float64"
      ]
     },
     "execution_count": 284,
     "metadata": {},
     "output_type": "execute_result"
    }
   ],
   "source": [
    "MLdf = df1[isML==True]\n",
    "notMLdf = df1[isML==False]\n",
    "MLdf['statistics.viewCount'] = np.log(MLdf['statistics.viewCount'])\n",
    "MLdf['statistics.viewCount']\n",
    "notMLdf['statistics.viewCount'] = np.log(notMLdf['statistics.viewCount'])\n",
    "notMLdf['statistics.viewCount']"
   ]
  },
  {
   "cell_type": "code",
   "execution_count": 285,
   "metadata": {},
   "outputs": [
    {
     "data": {
      "text/plain": [
       "251"
      ]
     },
     "execution_count": 285,
     "metadata": {},
     "output_type": "execute_result"
    }
   ],
   "source": [
    "(isML==False).sum() + (isML==True).sum() + 13 # drops NaN"
   ]
  },
  {
   "cell_type": "code",
   "execution_count": 360,
   "metadata": {},
   "outputs": [
    {
     "data": {
      "image/png": "[encoded data removed]",
      "text/plain": [
       "<Figure size 1080x144 with 1 Axes>"
      ]
     },
     "metadata": {},
     "output_type": "display_data"
    }
   ],
   "source": [
    "data = MLdf\n",
    "\n",
    "sns.set(style='darkgrid')\n",
    "plt.figure(figsize=(15,2))\n",
    "ax = sns.boxplot(x='statistics.viewCount', data=data, orient='h')\n",
    "ax = sns.swarmplot(x='statistics.viewCount', data=data, orient='h', color='0.1')\n",
    "ax.set(xlim=(3,13))\n",
    "\n",
    "ax.set(xlabel='Natural Log of View Counts', title='ML Video Distribution', )\n",
    "plt.show()"
   ]
  },
  {
   "cell_type": "code",
   "execution_count": 361,
   "metadata": {},
   "outputs": [
    {
     "data": {
      "image/png": "[encoded data removed]",
      "text/plain": [
       "<Figure size 1080x144 with 1 Axes>"
      ]
     },
     "metadata": {},
     "output_type": "display_data"
    }
   ],
   "source": [
    "data = notMLdf\n",
    "\n",
    "sns.set(style='darkgrid')\n",
    "plt.figure(figsize=(15,2))\n",
    "ax = sns.boxplot(x='statistics.viewCount', data=data, orient='h', color='orange')\n",
    "ax = sns.swarmplot(x='statistics.viewCount', data=data, orient='h',color='0.4')\n",
    "ax.set(xlim=(3,13))\n",
    "\n",
    "ax.set(xlabel='Natural Log of View Counts', title='NonML', )\n",
    "plt.show()"
   ]
  },
  {
   "cell_type": "code",
   "execution_count": 306,
   "metadata": {},
   "outputs": [
    {
     "ename": "AttributeError",
     "evalue": "'list' object has no attribute 'get'",
     "output_type": "error",
     "traceback": [
      "\u001b[1;31m---------------------------------------------------------------------------\u001b[0m",
      "\u001b[1;31mAttributeError\u001b[0m                            Traceback (most recent call last)",
      "\u001b[1;32m<ipython-input-306-9a4f9506a2d7>\u001b[0m in \u001b[0;36m<module>\u001b[1;34m\u001b[0m\n\u001b[0;32m      3\u001b[0m \u001b[1;33m\u001b[0m\u001b[0m\n\u001b[0;32m      4\u001b[0m \u001b[0msns\u001b[0m\u001b[1;33m.\u001b[0m\u001b[0mset\u001b[0m\u001b[1;33m(\u001b[0m\u001b[0mstyle\u001b[0m\u001b[1;33m=\u001b[0m\u001b[1;34m'dark'\u001b[0m\u001b[1;33m)\u001b[0m\u001b[1;33m\u001b[0m\u001b[1;33m\u001b[0m\u001b[0m\n\u001b[1;32m----> 5\u001b[1;33m \u001b[0max\u001b[0m \u001b[1;33m=\u001b[0m \u001b[0msns\u001b[0m\u001b[1;33m.\u001b[0m\u001b[0mboxplot\u001b[0m\u001b[1;33m(\u001b[0m\u001b[0mx\u001b[0m\u001b[1;33m,\u001b[0m \u001b[0mdata\u001b[0m\u001b[1;33m=\u001b[0m\u001b[0mdata\u001b[0m\u001b[1;33m,\u001b[0m \u001b[0morient\u001b[0m\u001b[1;33m=\u001b[0m\u001b[1;34m'h'\u001b[0m\u001b[1;33m)\u001b[0m\u001b[1;33m\u001b[0m\u001b[1;33m\u001b[0m\u001b[0m\n\u001b[0m\u001b[0;32m      6\u001b[0m \u001b[0max\u001b[0m \u001b[1;33m=\u001b[0m \u001b[0msns\u001b[0m\u001b[1;33m.\u001b[0m\u001b[0mswarmplot\u001b[0m\u001b[1;33m(\u001b[0m\u001b[0mx\u001b[0m\u001b[1;33m,\u001b[0m \u001b[0mdata\u001b[0m\u001b[1;33m=\u001b[0m\u001b[0mdata\u001b[0m\u001b[1;33m,\u001b[0m \u001b[0morient\u001b[0m\u001b[1;33m=\u001b[0m\u001b[1;34m'h'\u001b[0m\u001b[1;33m)\u001b[0m\u001b[1;33m\u001b[0m\u001b[1;33m\u001b[0m\u001b[0m\n\u001b[0;32m      7\u001b[0m \u001b[0max\u001b[0m\u001b[1;33m.\u001b[0m\u001b[0mset\u001b[0m\u001b[1;33m(\u001b[0m\u001b[0mxlabel\u001b[0m\u001b[1;33m=\u001b[0m\u001b[1;34m'Natural Log of View Counts'\u001b[0m\u001b[1;33m,\u001b[0m\u001b[0mylabel\u001b[0m\u001b[1;33m=\u001b[0m\u001b[1;34m'Video Type'\u001b[0m\u001b[1;33m,\u001b[0m \u001b[0mtitle\u001b[0m\u001b[1;33m=\u001b[0m\u001b[1;34m'Comparing distribution of Video Types'\u001b[0m\u001b[1;33m,\u001b[0m \u001b[1;33m)\u001b[0m\u001b[1;33m\u001b[0m\u001b[1;33m\u001b[0m\u001b[0m\n",
      "\u001b[1;32m~\\Anaconda3\\lib\\site-packages\\seaborn\\categorical.py\u001b[0m in \u001b[0;36mboxplot\u001b[1;34m(x, y, hue, data, order, hue_order, orient, color, palette, saturation, width, dodge, fliersize, linewidth, whis, ax, **kwargs)\u001b[0m\n\u001b[0;32m   2233\u001b[0m     plotter = _BoxPlotter(x, y, hue, data, order, hue_order,\n\u001b[0;32m   2234\u001b[0m                           \u001b[0morient\u001b[0m\u001b[1;33m,\u001b[0m \u001b[0mcolor\u001b[0m\u001b[1;33m,\u001b[0m \u001b[0mpalette\u001b[0m\u001b[1;33m,\u001b[0m \u001b[0msaturation\u001b[0m\u001b[1;33m,\u001b[0m\u001b[1;33m\u001b[0m\u001b[1;33m\u001b[0m\u001b[0m\n\u001b[1;32m-> 2235\u001b[1;33m                           width, dodge, fliersize, linewidth)\n\u001b[0m\u001b[0;32m   2236\u001b[0m \u001b[1;33m\u001b[0m\u001b[0m\n\u001b[0;32m   2237\u001b[0m     \u001b[1;32mif\u001b[0m \u001b[0max\u001b[0m \u001b[1;32mis\u001b[0m \u001b[1;32mNone\u001b[0m\u001b[1;33m:\u001b[0m\u001b[1;33m\u001b[0m\u001b[1;33m\u001b[0m\u001b[0m\n",
      "\u001b[1;32m~\\Anaconda3\\lib\\site-packages\\seaborn\\categorical.py\u001b[0m in \u001b[0;36m__init__\u001b[1;34m(self, x, y, hue, data, order, hue_order, orient, color, palette, saturation, width, dodge, fliersize, linewidth)\u001b[0m\n\u001b[0;32m    434\u001b[0m                  width, dodge, fliersize, linewidth):\n\u001b[0;32m    435\u001b[0m \u001b[1;33m\u001b[0m\u001b[0m\n\u001b[1;32m--> 436\u001b[1;33m         \u001b[0mself\u001b[0m\u001b[1;33m.\u001b[0m\u001b[0mestablish_variables\u001b[0m\u001b[1;33m(\u001b[0m\u001b[0mx\u001b[0m\u001b[1;33m,\u001b[0m \u001b[0my\u001b[0m\u001b[1;33m,\u001b[0m \u001b[0mhue\u001b[0m\u001b[1;33m,\u001b[0m \u001b[0mdata\u001b[0m\u001b[1;33m,\u001b[0m \u001b[0morient\u001b[0m\u001b[1;33m,\u001b[0m \u001b[0morder\u001b[0m\u001b[1;33m,\u001b[0m \u001b[0mhue_order\u001b[0m\u001b[1;33m)\u001b[0m\u001b[1;33m\u001b[0m\u001b[1;33m\u001b[0m\u001b[0m\n\u001b[0m\u001b[0;32m    437\u001b[0m         \u001b[0mself\u001b[0m\u001b[1;33m.\u001b[0m\u001b[0mestablish_colors\u001b[0m\u001b[1;33m(\u001b[0m\u001b[0mcolor\u001b[0m\u001b[1;33m,\u001b[0m \u001b[0mpalette\u001b[0m\u001b[1;33m,\u001b[0m \u001b[0msaturation\u001b[0m\u001b[1;33m)\u001b[0m\u001b[1;33m\u001b[0m\u001b[1;33m\u001b[0m\u001b[0m\n\u001b[0;32m    438\u001b[0m \u001b[1;33m\u001b[0m\u001b[0m\n",
      "\u001b[1;32m~\\Anaconda3\\lib\\site-packages\\seaborn\\categorical.py\u001b[0m in \u001b[0;36mestablish_variables\u001b[1;34m(self, x, y, hue, data, orient, order, hue_order, units)\u001b[0m\n\u001b[0;32m    141\u001b[0m             \u001b[1;31m# See if we need to get variables from `data`\u001b[0m\u001b[1;33m\u001b[0m\u001b[1;33m\u001b[0m\u001b[1;33m\u001b[0m\u001b[0m\n\u001b[0;32m    142\u001b[0m             \u001b[1;32mif\u001b[0m \u001b[0mdata\u001b[0m \u001b[1;32mis\u001b[0m \u001b[1;32mnot\u001b[0m \u001b[1;32mNone\u001b[0m\u001b[1;33m:\u001b[0m\u001b[1;33m\u001b[0m\u001b[1;33m\u001b[0m\u001b[0m\n\u001b[1;32m--> 143\u001b[1;33m                 \u001b[0mx\u001b[0m \u001b[1;33m=\u001b[0m \u001b[0mdata\u001b[0m\u001b[1;33m.\u001b[0m\u001b[0mget\u001b[0m\u001b[1;33m(\u001b[0m\u001b[0mx\u001b[0m\u001b[1;33m,\u001b[0m \u001b[0mx\u001b[0m\u001b[1;33m)\u001b[0m\u001b[1;33m\u001b[0m\u001b[1;33m\u001b[0m\u001b[0m\n\u001b[0m\u001b[0;32m    144\u001b[0m                 \u001b[0my\u001b[0m \u001b[1;33m=\u001b[0m \u001b[0mdata\u001b[0m\u001b[1;33m.\u001b[0m\u001b[0mget\u001b[0m\u001b[1;33m(\u001b[0m\u001b[0my\u001b[0m\u001b[1;33m,\u001b[0m \u001b[0my\u001b[0m\u001b[1;33m)\u001b[0m\u001b[1;33m\u001b[0m\u001b[1;33m\u001b[0m\u001b[0m\n\u001b[0;32m    145\u001b[0m                 \u001b[0mhue\u001b[0m \u001b[1;33m=\u001b[0m \u001b[0mdata\u001b[0m\u001b[1;33m.\u001b[0m\u001b[0mget\u001b[0m\u001b[1;33m(\u001b[0m\u001b[0mhue\u001b[0m\u001b[1;33m,\u001b[0m \u001b[0mhue\u001b[0m\u001b[1;33m)\u001b[0m\u001b[1;33m\u001b[0m\u001b[1;33m\u001b[0m\u001b[0m\n",
      "\u001b[1;31mAttributeError\u001b[0m: 'list' object has no attribute 'get'"
     ]
    }
   ],
   "source": [
    "data = [MLdf['statistics.viewCount'], notMLdf['statistics.viewCount']]\n",
    "\n",
    "sns.set(style='dark')\n",
    "ax = sns.boxplot(x, data=data, orient='h')\n",
    "ax = sns.swarmplot(x, data=data, orient='h')\n",
    "ax.set(xlabel='Natural Log of View Counts',ylabel='Video Type', title='Comparing distribution of Video Types', )\n",
    "plt.show()"
   ]
  },
  {
   "cell_type": "code",
   "execution_count": null,
   "metadata": {},
   "outputs": [],
   "source": []
  }
 ],
 "metadata": {
  "kernelspec": {
   "display_name": "Python 3",
   "language": "python",
   "name": "python3"
  },
  "language_info": {
   "codemirror_mode": {
    "name": "ipython",
    "version": 3
   },
   "file_extension": ".py",
   "mimetype": "text/x-python",
   "name": "python",
   "nbconvert_exporter": "python",
   "pygments_lexer": "ipython3",
   "version": "3.7.4"
  }
 },
 "nbformat": 4,
 "nbformat_minor": 4
}
