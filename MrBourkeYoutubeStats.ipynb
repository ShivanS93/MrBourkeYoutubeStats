{
 "cells": [
  {
   "cell_type": "code",
   "execution_count": 1,
   "metadata": {},
   "outputs": [],
   "source": [
    "import pandas as pd\n",
    "import matplotlib.pyplot as plt\n",
    "import numpy as np\n",
    "\n",
    "%matplotlib inline\n",
    "\n",
    "import os\n",
    "import requests\n",
    "import json\n",
    "import math\n",
    "\n",
    "import googleapiclient.discovery\n",
    "import googleapiclient.errors"
   ]
  },
  {
   "cell_type": "code",
   "execution_count": 2,
   "metadata": {},
   "outputs": [],
   "source": [
    "%run setAPIkey.py"
   ]
  },
  {
   "cell_type": "code",
   "execution_count": 3,
   "metadata": {},
   "outputs": [],
   "source": [
    "API_KEY = os.getenv('YT_API')"
   ]
  },
  {
   "cell_type": "code",
   "execution_count": 4,
   "metadata": {},
   "outputs": [],
   "source": [
    "api_service_name = 'youtube'\n",
    "api_version = 'v3'\n",
    "youtube = googleapiclient.discovery.build(api_service_name, api_version, developerKey=API_KEY)"
   ]
  },
  {
   "cell_type": "code",
   "execution_count": 5,
   "metadata": {},
   "outputs": [],
   "source": [
    "channel_ID = 'UCr8O8l5cCX85Oem1d18EezQ' # Daniel Bourke's channel ID\n",
    "\n",
    "channel_request = youtube.channels().list(\n",
    "    part='snippet,contentDetails',\n",
    "    id=channel_ID\n",
    ")\n",
    "channel_res = channel_request.execute()\n",
    "#channel_res"
   ]
  },
  {
   "cell_type": "code",
   "execution_count": 6,
   "metadata": {},
   "outputs": [],
   "source": [
    "uploadPlaylist_ID = channel_res['items'][0]['contentDetails']['relatedPlaylists']['uploads']\n",
    "#print('Upload Playlist ID: ' + uploadPlaylist_ID)"
   ]
  },
  {
   "cell_type": "code",
   "execution_count": 7,
   "metadata": {},
   "outputs": [],
   "source": [
    "def playlist_requester(pageToken=None,uploadPlaylist_ID=uploadPlaylist_ID):\n",
    "    playlist_request = youtube.playlistItems().list(\n",
    "        part='snippet,contentDetails',\n",
    "        maxResults=50,\n",
    "        pageToken=pageToken,\n",
    "        playlistId=uploadPlaylist_ID\n",
    "    )\n",
    "    playlist_res = playlist_request.execute()\n",
    "    \n",
    "    return playlist_res\n",
    "\n",
    "playlist_res = playlist_requester()"
   ]
  },
  {
   "cell_type": "code",
   "execution_count": 8,
   "metadata": {},
   "outputs": [
    {
     "name": "stdout",
     "output_type": "stream",
     "text": [
      "251 CDIQAA\n",
      "50\n"
     ]
    }
   ],
   "source": [
    "TOTAL_UPLOADS = playlist_res['pageInfo']['totalResults']\n",
    "nextPageToken = playlist_res['nextPageToken']\n",
    "print(TOTAL_UPLOADS, nextPageToken)\n",
    "\n",
    "listOfVideo_IDs = [ video_ID['contentDetails']['videoId'] for video_ID in playlist_res['items'] ] # first 50\n",
    "print(len(listOfVideo_IDs))\n",
    "#listOfVideo_IDs"
   ]
  },
  {
   "cell_type": "code",
   "execution_count": 9,
   "metadata": {},
   "outputs": [
    {
     "name": "stdout",
     "output_type": "stream",
     "text": [
      "Number of Uploaded Videos: 100\n",
      "Number of Uploaded Videos: 150\n",
      "Number of Uploaded Videos: 200\n",
      "Number of Uploaded Videos: 250\n",
      "Number of Uploaded Videos: 251\n"
     ]
    }
   ],
   "source": [
    "while TOTAL_UPLOADS > len(listOfVideo_IDs):\n",
    "    \n",
    "    # going through pages and extending list of video IDs\n",
    "    \n",
    "    nextpage_playlist_res = playlist_requester(nextPageToken)\n",
    "    listOfVideo_IDs.extend([ video_ID['contentDetails']['videoId'] for video_ID in nextpage_playlist_res['items'] \n",
    "                            if video_ID['contentDetails']['videoId'] not in listOfVideo_IDs ]) # extend() for lists / #append only does one item at ta time / concating lists with + is very intenstive according to \"Python for Data Analysis\"\n",
    "    if 'nextPageToken' in nextpage_playlist_res:\n",
    "        nextPageToken = nextpage_playlist_res['nextPageToken']\n",
    "    print('Number of Uploaded Videos: ' + str(len(listOfVideo_IDs)))\n",
    "    #print(nextPageToken)"
   ]
  },
  {
   "cell_type": "code",
   "execution_count": 43,
   "metadata": {},
   "outputs": [],
   "source": [
    "df = pd.DataFrame()\n",
    "\n",
    "for i in range(math.ceil(len(listOfVideo_IDs)/50)):\n",
    "    video_request = youtube.videos().list(\n",
    "        part='snippet,contentDetails,statistics',\n",
    "        id=listOfVideo_IDs[50*i:50*(i+1)]\n",
    "    )\n",
    "    video_response = video_request.execute()\n",
    "\n",
    "    sub_df = pd.json_normalize(video_response, 'items')\n",
    "    frames = [df, sub_df]\n",
    "    df = pd.concat(frames)"
   ]
  },
  {
   "cell_type": "code",
   "execution_count": 51,
   "metadata": {},
   "outputs": [
    {
     "data": {
      "text/html": [
       "<div>\n",
       "<style scoped>\n",
       "    .dataframe tbody tr th:only-of-type {\n",
       "        vertical-align: middle;\n",
       "    }\n",
       "\n",
       "    .dataframe tbody tr th {\n",
       "        vertical-align: top;\n",
       "    }\n",
       "\n",
       "    .dataframe thead th {\n",
       "        text-align: right;\n",
       "    }\n",
       "</style>\n",
       "<table border=\"1\" class=\"dataframe\">\n",
       "  <thead>\n",
       "    <tr style=\"text-align: right;\">\n",
       "      <th></th>\n",
       "      <th>kind</th>\n",
       "      <th>etag</th>\n",
       "      <th>id</th>\n",
       "      <th>snippet.publishedAt</th>\n",
       "      <th>snippet.channelId</th>\n",
       "      <th>snippet.title</th>\n",
       "      <th>snippet.description</th>\n",
       "      <th>snippet.thumbnails.default.url</th>\n",
       "      <th>snippet.thumbnails.default.width</th>\n",
       "      <th>snippet.thumbnails.default.height</th>\n",
       "      <th>...</th>\n",
       "      <th>contentDetails.caption</th>\n",
       "      <th>contentDetails.licensedContent</th>\n",
       "      <th>contentDetails.projection</th>\n",
       "      <th>statistics.viewCount</th>\n",
       "      <th>statistics.likeCount</th>\n",
       "      <th>statistics.dislikeCount</th>\n",
       "      <th>statistics.favoriteCount</th>\n",
       "      <th>statistics.commentCount</th>\n",
       "      <th>snippet.defaultAudioLanguage</th>\n",
       "      <th>contentDetails.regionRestriction.blocked</th>\n",
       "    </tr>\n",
       "  </thead>\n",
       "  <tbody>\n",
       "    <tr>\n",
       "      <th>0</th>\n",
       "      <td>youtube#video</td>\n",
       "      <td>yt0a2xz7hK_cfwNDVkFuZCuMpzk</td>\n",
       "      <td>3IKWukTiBfc</td>\n",
       "      <td>2020-08-09T06:06:03Z</td>\n",
       "      <td>UCr8O8l5cCX85Oem1d18EezQ</td>\n",
       "      <td>The future will not be supervised... | Machine...</td>\n",
       "      <td>This month has been all about GPT3 and self-su...</td>\n",
       "      <td>https://i.ytimg.com/vi/3IKWukTiBfc/default.jpg</td>\n",
       "      <td>120</td>\n",
       "      <td>90</td>\n",
       "      <td>...</td>\n",
       "      <td>false</td>\n",
       "      <td>True</td>\n",
       "      <td>rectangular</td>\n",
       "      <td>6949</td>\n",
       "      <td>264</td>\n",
       "      <td>1</td>\n",
       "      <td>0</td>\n",
       "      <td>35</td>\n",
       "      <td>NaN</td>\n",
       "      <td>NaN</td>\n",
       "    </tr>\n",
       "    <tr>\n",
       "      <th>1</th>\n",
       "      <td>youtube#video</td>\n",
       "      <td>JaXQqCJGFA3TGhPQIuK4ZakNVYc</td>\n",
       "      <td>8JTKX09LzNc</td>\n",
       "      <td>2020-08-06T00:29:48Z</td>\n",
       "      <td>UCr8O8l5cCX85Oem1d18EezQ</td>\n",
       "      <td>Are courses enough for a job? | Machine learni...</td>\n",
       "      <td>Let's talk machine learning, health, business ...</td>\n",
       "      <td>https://i.ytimg.com/vi/8JTKX09LzNc/default.jpg</td>\n",
       "      <td>120</td>\n",
       "      <td>90</td>\n",
       "      <td>...</td>\n",
       "      <td>false</td>\n",
       "      <td>True</td>\n",
       "      <td>rectangular</td>\n",
       "      <td>6878</td>\n",
       "      <td>299</td>\n",
       "      <td>8</td>\n",
       "      <td>0</td>\n",
       "      <td>25</td>\n",
       "      <td>NaN</td>\n",
       "      <td>NaN</td>\n",
       "    </tr>\n",
       "  </tbody>\n",
       "</table>\n",
       "<p>2 rows × 41 columns</p>\n",
       "</div>"
      ],
      "text/plain": [
       "            kind                         etag           id  \\\n",
       "0  youtube#video  yt0a2xz7hK_cfwNDVkFuZCuMpzk  3IKWukTiBfc   \n",
       "1  youtube#video  JaXQqCJGFA3TGhPQIuK4ZakNVYc  8JTKX09LzNc   \n",
       "\n",
       "    snippet.publishedAt         snippet.channelId  \\\n",
       "0  2020-08-09T06:06:03Z  UCr8O8l5cCX85Oem1d18EezQ   \n",
       "1  2020-08-06T00:29:48Z  UCr8O8l5cCX85Oem1d18EezQ   \n",
       "\n",
       "                                       snippet.title  \\\n",
       "0  The future will not be supervised... | Machine...   \n",
       "1  Are courses enough for a job? | Machine learni...   \n",
       "\n",
       "                                 snippet.description  \\\n",
       "0  This month has been all about GPT3 and self-su...   \n",
       "1  Let's talk machine learning, health, business ...   \n",
       "\n",
       "                   snippet.thumbnails.default.url  \\\n",
       "0  https://i.ytimg.com/vi/3IKWukTiBfc/default.jpg   \n",
       "1  https://i.ytimg.com/vi/8JTKX09LzNc/default.jpg   \n",
       "\n",
       "   snippet.thumbnails.default.width  snippet.thumbnails.default.height  ...  \\\n",
       "0                               120                                 90  ...   \n",
       "1                               120                                 90  ...   \n",
       "\n",
       "  contentDetails.caption  contentDetails.licensedContent  \\\n",
       "0                  false                            True   \n",
       "1                  false                            True   \n",
       "\n",
       "   contentDetails.projection statistics.viewCount  statistics.likeCount  \\\n",
       "0                rectangular                 6949                   264   \n",
       "1                rectangular                 6878                   299   \n",
       "\n",
       "   statistics.dislikeCount statistics.favoriteCount  statistics.commentCount  \\\n",
       "0                        1                        0                       35   \n",
       "1                        8                        0                       25   \n",
       "\n",
       "   snippet.defaultAudioLanguage contentDetails.regionRestriction.blocked  \n",
       "0                           NaN                                      NaN  \n",
       "1                           NaN                                      NaN  \n",
       "\n",
       "[2 rows x 41 columns]"
      ]
     },
     "execution_count": 51,
     "metadata": {},
     "output_type": "execute_result"
    }
   ],
   "source": [
    "df.head(2)"
   ]
  },
  {
   "cell_type": "code",
   "execution_count": 50,
   "metadata": {},
   "outputs": [
    {
     "data": {
      "text/plain": [
       "(251, 41)"
      ]
     },
     "execution_count": 50,
     "metadata": {},
     "output_type": "execute_result"
    }
   ],
   "source": [
    "df.shape"
   ]
  },
  {
   "cell_type": "code",
   "execution_count": 48,
   "metadata": {},
   "outputs": [
    {
     "data": {
      "text/plain": [
       "kind                                         object\n",
       "etag                                         object\n",
       "id                                           object\n",
       "snippet.publishedAt                          object\n",
       "snippet.channelId                            object\n",
       "snippet.title                                object\n",
       "snippet.description                          object\n",
       "snippet.thumbnails.default.url               object\n",
       "snippet.thumbnails.default.width              int64\n",
       "snippet.thumbnails.default.height             int64\n",
       "snippet.thumbnails.medium.url                object\n",
       "snippet.thumbnails.medium.width               int64\n",
       "snippet.thumbnails.medium.height              int64\n",
       "snippet.thumbnails.high.url                  object\n",
       "snippet.thumbnails.high.width                 int64\n",
       "snippet.thumbnails.high.height                int64\n",
       "snippet.thumbnails.standard.url              object\n",
       "snippet.thumbnails.standard.width           float64\n",
       "snippet.thumbnails.standard.height          float64\n",
       "snippet.thumbnails.maxres.url                object\n",
       "snippet.thumbnails.maxres.width             float64\n",
       "snippet.thumbnails.maxres.height            float64\n",
       "snippet.channelTitle                         object\n",
       "snippet.tags                                 object\n",
       "snippet.categoryId                           object\n",
       "snippet.liveBroadcastContent                 object\n",
       "snippet.localized.title                      object\n",
       "snippet.localized.description                object\n",
       "contentDetails.duration                      object\n",
       "contentDetails.dimension                     object\n",
       "contentDetails.definition                    object\n",
       "contentDetails.caption                       object\n",
       "contentDetails.licensedContent                 bool\n",
       "contentDetails.projection                    object\n",
       "statistics.viewCount                         object\n",
       "statistics.likeCount                         object\n",
       "statistics.dislikeCount                      object\n",
       "statistics.favoriteCount                     object\n",
       "statistics.commentCount                      object\n",
       "snippet.defaultAudioLanguage                 object\n",
       "contentDetails.regionRestriction.blocked     object\n",
       "dtype: object"
      ]
     },
     "execution_count": 48,
     "metadata": {},
     "output_type": "execute_result"
    }
   ],
   "source": [
    "df.dtypes"
   ]
  },
  {
   "cell_type": "code",
   "execution_count": 54,
   "metadata": {},
   "outputs": [
    {
     "data": {
      "text/plain": [
       "13"
      ]
     },
     "execution_count": 54,
     "metadata": {},
     "output_type": "execute_result"
    }
   ],
   "source": [
    "df['snippet.tags'].isna().sum()"
   ]
  },
  {
   "cell_type": "code",
   "execution_count": null,
   "metadata": {},
   "outputs": [],
   "source": [
    "df['']"
   ]
  }
 ],
 "metadata": {
  "kernelspec": {
   "display_name": "Python 3",
   "language": "python",
   "name": "python3"
  },
  "language_info": {
   "codemirror_mode": {
    "name": "ipython",
    "version": 3
   },
   "file_extension": ".py",
   "mimetype": "text/x-python",
   "name": "python",
   "nbconvert_exporter": "python",
   "pygments_lexer": "ipython3",
   "version": "3.7.4"
  }
 },
 "nbformat": 4,
 "nbformat_minor": 4
}
