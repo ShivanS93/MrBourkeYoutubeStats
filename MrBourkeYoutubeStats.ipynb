{
 "cells": [
  {
   "cell_type": "code",
   "execution_count": 1,
   "metadata": {},
   "outputs": [],
   "source": [
    "import pandas as pd\n",
    "import matplotlib.pyplot as plt\n",
    "\n",
    "%matplotlib inline\n",
    "\n",
    "import os\n",
    "import requests\n",
    "import json\n",
    "import math\n",
    "\n",
    "import googleapiclient.discovery\n",
    "import googleapiclient.errors"
   ]
  },
  {
   "cell_type": "code",
   "execution_count": 2,
   "metadata": {},
   "outputs": [],
   "source": [
    "%run setAPIkey.py"
   ]
  },
  {
   "cell_type": "code",
   "execution_count": 3,
   "metadata": {},
   "outputs": [],
   "source": [
    "API_KEY = os.getenv('YT_API')"
   ]
  },
  {
   "cell_type": "code",
   "execution_count": 4,
   "metadata": {},
   "outputs": [],
   "source": [
    "api_service_name = 'youtube'\n",
    "api_version = 'v3'\n",
    "youtube = googleapiclient.discovery.build(api_service_name, api_version, developerKey=API_KEY)"
   ]
  },
  {
   "cell_type": "code",
   "execution_count": 5,
   "metadata": {},
   "outputs": [],
   "source": [
    "channel_ID = 'UCr8O8l5cCX85Oem1d18EezQ' # Daniel Bourke's channel ID\n",
    "\n",
    "channel_request = youtube.channels().list(\n",
    "    part='snippet,contentDetails',\n",
    "    id=channel_ID\n",
    ")\n",
    "channel_res = channel_request.execute()\n",
    "#channel_res"
   ]
  },
  {
   "cell_type": "code",
   "execution_count": 6,
   "metadata": {},
   "outputs": [],
   "source": [
    "uploadPlaylist_ID = channel_res['items'][0]['contentDetails']['relatedPlaylists']['uploads']\n",
    "#print('Upload Playlist ID: ' + uploadPlaylist_ID)"
   ]
  },
  {
   "cell_type": "code",
   "execution_count": 7,
   "metadata": {},
   "outputs": [],
   "source": [
    "def playlist_requester(pageToken=None,uploadPlaylist_ID=uploadPlaylist_ID):\n",
    "    playlist_request = youtube.playlistItems().list(\n",
    "        part='snippet,contentDetails',\n",
    "        maxResults=50,\n",
    "        pageToken=pageToken,\n",
    "        playlistId=uploadPlaylist_ID\n",
    "    )\n",
    "    playlist_res = playlist_request.execute()\n",
    "    \n",
    "    return playlist_res\n",
    "\n",
    "playlist_res = playlist_requester()"
   ]
  },
  {
   "cell_type": "code",
   "execution_count": 8,
   "metadata": {},
   "outputs": [
    {
     "name": "stdout",
     "output_type": "stream",
     "text": [
      "251 CDIQAA\n",
      "50\n"
     ]
    }
   ],
   "source": [
    "TOTAL_UPLOADS = playlist_res['pageInfo']['totalResults']\n",
    "nextPageToken = playlist_res['nextPageToken']\n",
    "print(TOTAL_UPLOADS, nextPageToken)\n",
    "\n",
    "listOfVideo_IDs = [ video_ID['contentDetails']['videoId'] for video_ID in playlist_res['items'] ] # first 50\n",
    "print(len(listOfVideo_IDs))\n",
    "#listOfVideo_IDs"
   ]
  },
  {
   "cell_type": "code",
   "execution_count": 9,
   "metadata": {},
   "outputs": [
    {
     "name": "stdout",
     "output_type": "stream",
     "text": [
      "Number of Uploaded Videos: 100\n",
      "Number of Uploaded Videos: 150\n",
      "Number of Uploaded Videos: 200\n",
      "Number of Uploaded Videos: 250\n",
      "Number of Uploaded Videos: 251\n"
     ]
    }
   ],
   "source": [
    "while TOTAL_UPLOADS > len(listOfVideo_IDs):\n",
    "    \n",
    "    # going through pages and extending list of video IDs\n",
    "    \n",
    "    nextpage_playlist_res = playlist_requester(nextPageToken)\n",
    "    listOfVideo_IDs.extend([ video_ID['contentDetails']['videoId'] for video_ID in nextpage_playlist_res['items'] \n",
    "                            if video_ID['contentDetails']['videoId'] not in listOfVideo_IDs ]) # extend() for lists / #append only does one item at ta time / concating lists with + is very intenstive according to \"Python for Data Analysis\"\n",
    "    if 'nextPageToken' in nextpage_playlist_res:\n",
    "        nextPageToken = nextpage_playlist_res['nextPageToken']\n",
    "    print('Number of Uploaded Videos: ' + str(len(listOfVideo_IDs)))\n",
    "    #print(nextPageToken)"
   ]
  },
  {
   "cell_type": "code",
   "execution_count": 12,
   "metadata": {},
   "outputs": [],
   "source": [
    "listOfTitles = []\n",
    "listOfTags = []\n",
    "listOfViews = []\n",
    "listOfLikes = []\n",
    "listOfDislikes = []\n",
    "listOfComments = []\n",
    "\n",
    "for i in range(math.ceil(len(listOfVideo_IDs)/50)):\n",
    "    video_request = youtube.videos().list(\n",
    "        part='snippet,contentDetails,statistics',\n",
    "        id=listOfVideo_IDs[50*i:50*(i+1)]\n",
    "    )\n",
    "    video_response = video_request.execute()\n",
    "\n",
    "    for vid in video_response['items']:\n",
    "        listOfTitles.append(vid['snippet']['title'])\n",
    "        if 'tags' in vid['snippet']:\n",
    "            listOfTags.append(vid['snippet']['tags'])\n",
    "        else:\n",
    "            listOfTags.append('NaN')\n",
    "        listOfViews.append(vid['statistics']['viewCount'])\n",
    "        listOfLikes.append(vid['statistics']['likeCount'])\n",
    "        listOfDislikes.append(vid['statistics']['dislikeCount'])\n",
    "        listOfComments.append(vid['statistics']['commentCount'])\n",
    " \n",
    "    #print(len(video_response['items']))\n"
   ]
  },
  {
   "cell_type": "code",
   "execution_count": 20,
   "metadata": {},
   "outputs": [],
   "source": [
    "#zip lists together\n",
    "combinedList = list(zip(listOfTitles, listOfViews, listOfTags,\n",
    "                  listOfLikes, listOfDislikes, listOfComments))\n",
    "\n",
    "columns = ['Title', 'ViewCount', 'Tags', 'LikeCount', 'DislikeCount', 'CommentCount']"
   ]
  },
  {
   "cell_type": "code",
   "execution_count": 22,
   "metadata": {},
   "outputs": [
    {
     "data": {
      "text/html": [
       "<div>\n",
       "<style scoped>\n",
       "    .dataframe tbody tr th:only-of-type {\n",
       "        vertical-align: middle;\n",
       "    }\n",
       "\n",
       "    .dataframe tbody tr th {\n",
       "        vertical-align: top;\n",
       "    }\n",
       "\n",
       "    .dataframe thead th {\n",
       "        text-align: right;\n",
       "    }\n",
       "</style>\n",
       "<table border=\"1\" class=\"dataframe\">\n",
       "  <thead>\n",
       "    <tr style=\"text-align: right;\">\n",
       "      <th></th>\n",
       "      <th>Title</th>\n",
       "      <th>ViewCount</th>\n",
       "      <th>Tags</th>\n",
       "      <th>LikeCount</th>\n",
       "      <th>DislikeCount</th>\n",
       "      <th>CommentCount</th>\n",
       "    </tr>\n",
       "  </thead>\n",
       "  <tbody>\n",
       "    <tr>\n",
       "      <th>0</th>\n",
       "      <td>The future will not be supervised... | Machine...</td>\n",
       "      <td>6832</td>\n",
       "      <td>[self supervised learning machine learning, ma...</td>\n",
       "      <td>261</td>\n",
       "      <td>1</td>\n",
       "      <td>35</td>\n",
       "    </tr>\n",
       "    <tr>\n",
       "      <th>1</th>\n",
       "      <td>Are courses enough for a job? | Machine learni...</td>\n",
       "      <td>6774</td>\n",
       "      <td>NaN</td>\n",
       "      <td>296</td>\n",
       "      <td>8</td>\n",
       "      <td>25</td>\n",
       "    </tr>\n",
       "    <tr>\n",
       "      <th>2</th>\n",
       "      <td>What does a head of data science look for in a...</td>\n",
       "      <td>8985</td>\n",
       "      <td>[ken jee, daniel bourke, what questions get as...</td>\n",
       "      <td>449</td>\n",
       "      <td>8</td>\n",
       "      <td>34</td>\n",
       "    </tr>\n",
       "    <tr>\n",
       "      <th>3</th>\n",
       "      <td>2020 Machine Learning Roadmap</td>\n",
       "      <td>216952</td>\n",
       "      <td>[machine learning field guide, machine learnin...</td>\n",
       "      <td>11810</td>\n",
       "      <td>137</td>\n",
       "      <td>523</td>\n",
       "    </tr>\n",
       "    <tr>\n",
       "      <th>4</th>\n",
       "      <td>One Neural Network to Rule Them All (and more)...</td>\n",
       "      <td>5466</td>\n",
       "      <td>[zero to mastery, machine learning monthly, wh...</td>\n",
       "      <td>198</td>\n",
       "      <td>0</td>\n",
       "      <td>62</td>\n",
       "    </tr>\n",
       "  </tbody>\n",
       "</table>\n",
       "</div>"
      ],
      "text/plain": [
       "                                               Title ViewCount  \\\n",
       "0  The future will not be supervised... | Machine...      6832   \n",
       "1  Are courses enough for a job? | Machine learni...      6774   \n",
       "2  What does a head of data science look for in a...      8985   \n",
       "3                      2020 Machine Learning Roadmap    216952   \n",
       "4  One Neural Network to Rule Them All (and more)...      5466   \n",
       "\n",
       "                                                Tags LikeCount DislikeCount  \\\n",
       "0  [self supervised learning machine learning, ma...       261            1   \n",
       "1                                                NaN       296            8   \n",
       "2  [ken jee, daniel bourke, what questions get as...       449            8   \n",
       "3  [machine learning field guide, machine learnin...     11810          137   \n",
       "4  [zero to mastery, machine learning monthly, wh...       198            0   \n",
       "\n",
       "  CommentCount  \n",
       "0           35  \n",
       "1           25  \n",
       "2           34  \n",
       "3          523  \n",
       "4           62  "
      ]
     },
     "execution_count": 22,
     "metadata": {},
     "output_type": "execute_result"
    }
   ],
   "source": [
    "df = pd.DataFrame(combinedList, columns=columns)\n",
    "df.head()"
   ]
  },
  {
   "cell_type": "code",
   "execution_count": 23,
   "metadata": {},
   "outputs": [
    {
     "data": {
      "text/html": [
       "<div>\n",
       "<style scoped>\n",
       "    .dataframe tbody tr th:only-of-type {\n",
       "        vertical-align: middle;\n",
       "    }\n",
       "\n",
       "    .dataframe tbody tr th {\n",
       "        vertical-align: top;\n",
       "    }\n",
       "\n",
       "    .dataframe thead th {\n",
       "        text-align: right;\n",
       "    }\n",
       "</style>\n",
       "<table border=\"1\" class=\"dataframe\">\n",
       "  <thead>\n",
       "    <tr style=\"text-align: right;\">\n",
       "      <th></th>\n",
       "      <th>Title</th>\n",
       "      <th>ViewCount</th>\n",
       "      <th>Tags</th>\n",
       "      <th>LikeCount</th>\n",
       "      <th>DislikeCount</th>\n",
       "      <th>CommentCount</th>\n",
       "    </tr>\n",
       "  </thead>\n",
       "  <tbody>\n",
       "    <tr>\n",
       "      <th>246</th>\n",
       "      <td>Text/Profanity Checker in Python</td>\n",
       "      <td>2763</td>\n",
       "      <td>[udacity, coding, python, programming, ai, art...</td>\n",
       "      <td>19</td>\n",
       "      <td>1</td>\n",
       "      <td>10</td>\n",
       "    </tr>\n",
       "    <tr>\n",
       "      <th>247</th>\n",
       "      <td>Functional Friday | Backyard Workout</td>\n",
       "      <td>330</td>\n",
       "      <td>[workout music 2016, workout motivation, worko...</td>\n",
       "      <td>5</td>\n",
       "      <td>0</td>\n",
       "      <td>0</td>\n",
       "    </tr>\n",
       "    <tr>\n",
       "      <th>248</th>\n",
       "      <td>High Protein Vegan Snack  - Crunchy Spicy Chic...</td>\n",
       "      <td>353</td>\n",
       "      <td>[cooking, recipes, vegetarian, snacks, protein...</td>\n",
       "      <td>11</td>\n",
       "      <td>1</td>\n",
       "      <td>0</td>\n",
       "    </tr>\n",
       "    <tr>\n",
       "      <th>249</th>\n",
       "      <td>HOW (not) TO BUILD A PULL UP BAR</td>\n",
       "      <td>456</td>\n",
       "      <td>[DIY, fitness, exercise, pullupbar, snapchat, ...</td>\n",
       "      <td>9</td>\n",
       "      <td>0</td>\n",
       "      <td>5</td>\n",
       "    </tr>\n",
       "    <tr>\n",
       "      <th>250</th>\n",
       "      <td>Xbox One S Unboxing and Xbox One Comparison</td>\n",
       "      <td>248</td>\n",
       "      <td>[xbox, xboxone, gaming, mlg, microsoft, xboxon...</td>\n",
       "      <td>5</td>\n",
       "      <td>0</td>\n",
       "      <td>3</td>\n",
       "    </tr>\n",
       "  </tbody>\n",
       "</table>\n",
       "</div>"
      ],
      "text/plain": [
       "                                                 Title ViewCount  \\\n",
       "246                   Text/Profanity Checker in Python      2763   \n",
       "247               Functional Friday | Backyard Workout       330   \n",
       "248  High Protein Vegan Snack  - Crunchy Spicy Chic...       353   \n",
       "249                   HOW (not) TO BUILD A PULL UP BAR       456   \n",
       "250        Xbox One S Unboxing and Xbox One Comparison       248   \n",
       "\n",
       "                                                  Tags LikeCount DislikeCount  \\\n",
       "246  [udacity, coding, python, programming, ai, art...        19            1   \n",
       "247  [workout music 2016, workout motivation, worko...         5            0   \n",
       "248  [cooking, recipes, vegetarian, snacks, protein...        11            1   \n",
       "249  [DIY, fitness, exercise, pullupbar, snapchat, ...         9            0   \n",
       "250  [xbox, xboxone, gaming, mlg, microsoft, xboxon...         5            0   \n",
       "\n",
       "    CommentCount  \n",
       "246           10  \n",
       "247            0  \n",
       "248            0  \n",
       "249            5  \n",
       "250            3  "
      ]
     },
     "execution_count": 23,
     "metadata": {},
     "output_type": "execute_result"
    }
   ],
   "source": [
    "df.tail()"
   ]
  },
  {
   "cell_type": "code",
   "execution_count": 24,
   "metadata": {},
   "outputs": [
    {
     "data": {
      "text/plain": [
       "(251, 6)"
      ]
     },
     "execution_count": 24,
     "metadata": {},
     "output_type": "execute_result"
    }
   ],
   "source": [
    "df.shape"
   ]
  },
  {
   "cell_type": "code",
   "execution_count": null,
   "metadata": {},
   "outputs": [],
   "source": []
  }
 ],
 "metadata": {
  "kernelspec": {
   "display_name": "Python 3",
   "language": "python",
   "name": "python3"
  },
  "language_info": {
   "codemirror_mode": {
    "name": "ipython",
    "version": 3
   },
   "file_extension": ".py",
   "mimetype": "text/x-python",
   "name": "python",
   "nbconvert_exporter": "python",
   "pygments_lexer": "ipython3",
   "version": "3.7.4"
  }
 },
 "nbformat": 4,
 "nbformat_minor": 4
}
