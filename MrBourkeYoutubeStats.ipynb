{
 "cells": [
  {
   "cell_type": "markdown",
   "metadata": {},
   "source": [
    "# MrBourkeYoutubeStats.ipynb\n",
    "\n",
    "## Let me tell you a story...\n",
    "We are going to explore [Daniel Bourke's youtube channel](https://www.youtube.com/channel/UCr8O8l5cCX85Oem1d18EezQ \"mrdbourke\").\n",
    "\n",
    "Specfically, we are going to look at the different types of videos he has for who. His videos seem to follow two broad topics: machine learning for what he is known for and health and fitness.\n",
    "\n",
    "I want to look at the popularity based on number of views of his machine learning orientated videos compared to his fitness and health related videos.\n",
    "\n",
    "## Aims\n",
    "- Pull data from youtube API"
   ]
  },
  {
   "cell_type": "code",
   "execution_count": 1,
   "metadata": {},
   "outputs": [],
   "source": [
    "import pandas as pd\n",
    "import matplotlib.pyplot as plt\n",
    "import numpy as np\n",
    "import random as r\n",
    "\n",
    "%matplotlib inline\n",
    "\n",
    "import os\n",
    "import requests\n",
    "import json\n",
    "import math\n",
    "import re\n",
    "\n",
    "from datetime import date, time, datetime\n",
    "\n",
    "import googleapiclient.discovery\n",
    "import googleapiclient.errors"
   ]
  },
  {
   "cell_type": "code",
   "execution_count": 2,
   "metadata": {},
   "outputs": [],
   "source": [
    "%run setAPIkey.py"
   ]
  },
  {
   "cell_type": "code",
   "execution_count": 3,
   "metadata": {},
   "outputs": [],
   "source": [
    "API_KEY = os.getenv('YT_API')"
   ]
  },
  {
   "cell_type": "code",
   "execution_count": 4,
   "metadata": {},
   "outputs": [],
   "source": [
    "api_service_name = 'youtube'\n",
    "api_version = 'v3'\n",
    "youtube = googleapiclient.discovery.build(api_service_name, api_version, developerKey=API_KEY)"
   ]
  },
  {
   "cell_type": "code",
   "execution_count": 5,
   "metadata": {},
   "outputs": [],
   "source": [
    "channel_ID = 'UCr8O8l5cCX85Oem1d18EezQ' # Daniel Bourke's channel ID\n",
    "\n",
    "channel_request = youtube.channels().list(\n",
    "    part='snippet,contentDetails',\n",
    "    id=channel_ID\n",
    ")\n",
    "channel_res = channel_request.execute()\n",
    "#channel_res"
   ]
  },
  {
   "cell_type": "code",
   "execution_count": 6,
   "metadata": {},
   "outputs": [],
   "source": [
    "uploadPlaylist_ID = channel_res['items'][0]['contentDetails']['relatedPlaylists']['uploads']\n",
    "#print('Upload Playlist ID: ' + uploadPlaylist_ID)"
   ]
  },
  {
   "cell_type": "code",
   "execution_count": 7,
   "metadata": {},
   "outputs": [],
   "source": [
    "def playlist_requester(pageToken=None,uploadPlaylist_ID=uploadPlaylist_ID):\n",
    "    playlist_request = youtube.playlistItems().list(\n",
    "        part='snippet,contentDetails',\n",
    "        maxResults=50,\n",
    "        pageToken=pageToken,\n",
    "        playlistId=uploadPlaylist_ID\n",
    "    )\n",
    "    playlist_res = playlist_request.execute()\n",
    "    \n",
    "    return playlist_res\n",
    "\n",
    "playlist_res = playlist_requester()"
   ]
  },
  {
   "cell_type": "code",
   "execution_count": 8,
   "metadata": {},
   "outputs": [
    {
     "name": "stdout",
     "output_type": "stream",
     "text": [
      "50\n"
     ]
    }
   ],
   "source": [
    "TOTAL_UPLOADS = playlist_res['pageInfo']['totalResults']\n",
    "nextPageToken = playlist_res['nextPageToken']\n",
    "#print(TOTAL_UPLOADS, nextPageToken)\n",
    "\n",
    "listOfVideo_IDs = [ video_ID['contentDetails']['videoId'] for video_ID in playlist_res['items'] ] # first 50\n",
    "print(len(listOfVideo_IDs))\n",
    "#listOfVideo_IDs"
   ]
  },
  {
   "cell_type": "code",
   "execution_count": 9,
   "metadata": {},
   "outputs": [
    {
     "name": "stdout",
     "output_type": "stream",
     "text": [
      "Number of Uploaded Videos: 100\n",
      "Number of Uploaded Videos: 150\n",
      "Number of Uploaded Videos: 200\n",
      "Number of Uploaded Videos: 250\n",
      "Number of Uploaded Videos: 251\n"
     ]
    }
   ],
   "source": [
    "while TOTAL_UPLOADS > len(listOfVideo_IDs):\n",
    "    \n",
    "    # going through pages and extending list of video IDs\n",
    "    \n",
    "    nextpage_playlist_res = playlist_requester(nextPageToken)\n",
    "    listOfVideo_IDs.extend([ video_ID['contentDetails']['videoId'] for video_ID in nextpage_playlist_res['items'] \n",
    "                            if video_ID['contentDetails']['videoId'] not in listOfVideo_IDs ]) # extend() for lists / #append only does one item at ta time / concating lists with + is very intenstive according to \"Python for Data Analysis\"\n",
    "    if 'nextPageToken' in nextpage_playlist_res:\n",
    "        nextPageToken = nextpage_playlist_res['nextPageToken']\n",
    "    print('Number of Uploaded Videos: ' + str(len(listOfVideo_IDs)))\n",
    "    #print(nextPageToken)"
   ]
  },
  {
   "cell_type": "code",
   "execution_count": 10,
   "metadata": {},
   "outputs": [],
   "source": [
    "df = pd.DataFrame()\n",
    "\n",
    "for i in range(math.ceil(len(listOfVideo_IDs)/50)):\n",
    "    video_request = youtube.videos().list(\n",
    "        part='snippet,contentDetails,statistics',\n",
    "        id=listOfVideo_IDs[50*i:50*(i+1)]\n",
    "    )\n",
    "    video_response = video_request.execute()\n",
    "\n",
    "    sub_df = pd.json_normalize(video_response, 'items')\n",
    "    frames = [df, sub_df]\n",
    "    df = pd.concat(frames)"
   ]
  },
  {
   "cell_type": "code",
   "execution_count": 11,
   "metadata": {},
   "outputs": [
    {
     "data": {
      "text/html": [
       "<div>\n",
       "<style scoped>\n",
       "    .dataframe tbody tr th:only-of-type {\n",
       "        vertical-align: middle;\n",
       "    }\n",
       "\n",
       "    .dataframe tbody tr th {\n",
       "        vertical-align: top;\n",
       "    }\n",
       "\n",
       "    .dataframe thead th {\n",
       "        text-align: right;\n",
       "    }\n",
       "</style>\n",
       "<table border=\"1\" class=\"dataframe\">\n",
       "  <thead>\n",
       "    <tr style=\"text-align: right;\">\n",
       "      <th></th>\n",
       "      <th>kind</th>\n",
       "      <th>etag</th>\n",
       "      <th>id</th>\n",
       "      <th>snippet.publishedAt</th>\n",
       "      <th>snippet.channelId</th>\n",
       "      <th>snippet.title</th>\n",
       "      <th>snippet.description</th>\n",
       "      <th>snippet.thumbnails.default.url</th>\n",
       "      <th>snippet.thumbnails.default.width</th>\n",
       "      <th>snippet.thumbnails.default.height</th>\n",
       "      <th>...</th>\n",
       "      <th>contentDetails.caption</th>\n",
       "      <th>contentDetails.licensedContent</th>\n",
       "      <th>contentDetails.projection</th>\n",
       "      <th>statistics.viewCount</th>\n",
       "      <th>statistics.likeCount</th>\n",
       "      <th>statistics.dislikeCount</th>\n",
       "      <th>statistics.favoriteCount</th>\n",
       "      <th>statistics.commentCount</th>\n",
       "      <th>snippet.defaultAudioLanguage</th>\n",
       "      <th>contentDetails.regionRestriction.blocked</th>\n",
       "    </tr>\n",
       "  </thead>\n",
       "  <tbody>\n",
       "    <tr>\n",
       "      <th>0</th>\n",
       "      <td>youtube#video</td>\n",
       "      <td>y1cecw31MFlW1LRZGdZ-T5Vex1s</td>\n",
       "      <td>3IKWukTiBfc</td>\n",
       "      <td>2020-08-09T06:06:03Z</td>\n",
       "      <td>UCr8O8l5cCX85Oem1d18EezQ</td>\n",
       "      <td>The future will not be supervised... | Machine...</td>\n",
       "      <td>This month has been all about GPT3 and self-su...</td>\n",
       "      <td>https://i.ytimg.com/vi/3IKWukTiBfc/default.jpg</td>\n",
       "      <td>120</td>\n",
       "      <td>90</td>\n",
       "      <td>...</td>\n",
       "      <td>false</td>\n",
       "      <td>True</td>\n",
       "      <td>rectangular</td>\n",
       "      <td>7088</td>\n",
       "      <td>271</td>\n",
       "      <td>1</td>\n",
       "      <td>0</td>\n",
       "      <td>35</td>\n",
       "      <td>NaN</td>\n",
       "      <td>NaN</td>\n",
       "    </tr>\n",
       "    <tr>\n",
       "      <th>1</th>\n",
       "      <td>youtube#video</td>\n",
       "      <td>5tD2U8xifujFsTFH38FXGSGEKao</td>\n",
       "      <td>8JTKX09LzNc</td>\n",
       "      <td>2020-08-06T00:29:48Z</td>\n",
       "      <td>UCr8O8l5cCX85Oem1d18EezQ</td>\n",
       "      <td>Are courses enough for a job? | Machine learni...</td>\n",
       "      <td>Let's talk machine learning, health, business ...</td>\n",
       "      <td>https://i.ytimg.com/vi/8JTKX09LzNc/default.jpg</td>\n",
       "      <td>120</td>\n",
       "      <td>90</td>\n",
       "      <td>...</td>\n",
       "      <td>false</td>\n",
       "      <td>True</td>\n",
       "      <td>rectangular</td>\n",
       "      <td>7002</td>\n",
       "      <td>302</td>\n",
       "      <td>9</td>\n",
       "      <td>0</td>\n",
       "      <td>25</td>\n",
       "      <td>NaN</td>\n",
       "      <td>NaN</td>\n",
       "    </tr>\n",
       "  </tbody>\n",
       "</table>\n",
       "<p>2 rows × 41 columns</p>\n",
       "</div>"
      ],
      "text/plain": [
       "            kind                         etag           id  \\\n",
       "0  youtube#video  y1cecw31MFlW1LRZGdZ-T5Vex1s  3IKWukTiBfc   \n",
       "1  youtube#video  5tD2U8xifujFsTFH38FXGSGEKao  8JTKX09LzNc   \n",
       "\n",
       "    snippet.publishedAt         snippet.channelId  \\\n",
       "0  2020-08-09T06:06:03Z  UCr8O8l5cCX85Oem1d18EezQ   \n",
       "1  2020-08-06T00:29:48Z  UCr8O8l5cCX85Oem1d18EezQ   \n",
       "\n",
       "                                       snippet.title  \\\n",
       "0  The future will not be supervised... | Machine...   \n",
       "1  Are courses enough for a job? | Machine learni...   \n",
       "\n",
       "                                 snippet.description  \\\n",
       "0  This month has been all about GPT3 and self-su...   \n",
       "1  Let's talk machine learning, health, business ...   \n",
       "\n",
       "                   snippet.thumbnails.default.url  \\\n",
       "0  https://i.ytimg.com/vi/3IKWukTiBfc/default.jpg   \n",
       "1  https://i.ytimg.com/vi/8JTKX09LzNc/default.jpg   \n",
       "\n",
       "   snippet.thumbnails.default.width  snippet.thumbnails.default.height  ...  \\\n",
       "0                               120                                 90  ...   \n",
       "1                               120                                 90  ...   \n",
       "\n",
       "  contentDetails.caption  contentDetails.licensedContent  \\\n",
       "0                  false                            True   \n",
       "1                  false                            True   \n",
       "\n",
       "   contentDetails.projection statistics.viewCount  statistics.likeCount  \\\n",
       "0                rectangular                 7088                   271   \n",
       "1                rectangular                 7002                   302   \n",
       "\n",
       "   statistics.dislikeCount statistics.favoriteCount  statistics.commentCount  \\\n",
       "0                        1                        0                       35   \n",
       "1                        9                        0                       25   \n",
       "\n",
       "   snippet.defaultAudioLanguage contentDetails.regionRestriction.blocked  \n",
       "0                           NaN                                      NaN  \n",
       "1                           NaN                                      NaN  \n",
       "\n",
       "[2 rows x 41 columns]"
      ]
     },
     "execution_count": 11,
     "metadata": {},
     "output_type": "execute_result"
    }
   ],
   "source": [
    "df.head(2)"
   ]
  },
  {
   "cell_type": "code",
   "execution_count": 12,
   "metadata": {},
   "outputs": [
    {
     "data": {
      "text/plain": [
       "(251, 41)"
      ]
     },
     "execution_count": 12,
     "metadata": {},
     "output_type": "execute_result"
    }
   ],
   "source": [
    "#checking dataframe\n",
    "df.shape"
   ]
  },
  {
   "cell_type": "code",
   "execution_count": 13,
   "metadata": {},
   "outputs": [
    {
     "data": {
      "text/plain": [
       "kind                                         object\n",
       "etag                                         object\n",
       "id                                           object\n",
       "snippet.publishedAt                          object\n",
       "snippet.channelId                            object\n",
       "snippet.title                                object\n",
       "snippet.description                          object\n",
       "snippet.thumbnails.default.url               object\n",
       "snippet.thumbnails.default.width              int64\n",
       "snippet.thumbnails.default.height             int64\n",
       "snippet.thumbnails.medium.url                object\n",
       "snippet.thumbnails.medium.width               int64\n",
       "snippet.thumbnails.medium.height              int64\n",
       "snippet.thumbnails.high.url                  object\n",
       "snippet.thumbnails.high.width                 int64\n",
       "snippet.thumbnails.high.height                int64\n",
       "snippet.thumbnails.standard.url              object\n",
       "snippet.thumbnails.standard.width           float64\n",
       "snippet.thumbnails.standard.height          float64\n",
       "snippet.thumbnails.maxres.url                object\n",
       "snippet.thumbnails.maxres.width             float64\n",
       "snippet.thumbnails.maxres.height            float64\n",
       "snippet.channelTitle                         object\n",
       "snippet.tags                                 object\n",
       "snippet.categoryId                           object\n",
       "snippet.liveBroadcastContent                 object\n",
       "snippet.localized.title                      object\n",
       "snippet.localized.description                object\n",
       "contentDetails.duration                      object\n",
       "contentDetails.dimension                     object\n",
       "contentDetails.definition                    object\n",
       "contentDetails.caption                       object\n",
       "contentDetails.licensedContent                 bool\n",
       "contentDetails.projection                    object\n",
       "statistics.viewCount                         object\n",
       "statistics.likeCount                         object\n",
       "statistics.dislikeCount                      object\n",
       "statistics.favoriteCount                     object\n",
       "statistics.commentCount                      object\n",
       "snippet.defaultAudioLanguage                 object\n",
       "contentDetails.regionRestriction.blocked     object\n",
       "dtype: object"
      ]
     },
     "execution_count": 13,
     "metadata": {},
     "output_type": "execute_result"
    }
   ],
   "source": [
    "#exploring different columns\n",
    "df.dtypes"
   ]
  },
  {
   "cell_type": "code",
   "execution_count": 14,
   "metadata": {},
   "outputs": [
    {
     "data": {
      "text/html": [
       "<div>\n",
       "<style scoped>\n",
       "    .dataframe tbody tr th:only-of-type {\n",
       "        vertical-align: middle;\n",
       "    }\n",
       "\n",
       "    .dataframe tbody tr th {\n",
       "        vertical-align: top;\n",
       "    }\n",
       "\n",
       "    .dataframe thead th {\n",
       "        text-align: right;\n",
       "    }\n",
       "</style>\n",
       "<table border=\"1\" class=\"dataframe\">\n",
       "  <thead>\n",
       "    <tr style=\"text-align: right;\">\n",
       "      <th></th>\n",
       "      <th>snippet.title</th>\n",
       "      <th>snippet.tags</th>\n",
       "      <th>contentDetails.duration</th>\n",
       "      <th>statistics.viewCount</th>\n",
       "      <th>statistics.likeCount</th>\n",
       "      <th>statistics.dislikeCount</th>\n",
       "      <th>statistics.commentCount</th>\n",
       "      <th>snippet.publishedAt</th>\n",
       "    </tr>\n",
       "  </thead>\n",
       "  <tbody>\n",
       "    <tr>\n",
       "      <th>0</th>\n",
       "      <td>The future will not be supervised... | Machine...</td>\n",
       "      <td>[self supervised learning machine learning, ma...</td>\n",
       "      <td>PT26M28S</td>\n",
       "      <td>7088</td>\n",
       "      <td>271</td>\n",
       "      <td>1</td>\n",
       "      <td>35</td>\n",
       "      <td>2020-08-09T06:06:03Z</td>\n",
       "    </tr>\n",
       "    <tr>\n",
       "      <th>1</th>\n",
       "      <td>Are courses enough for a job? | Machine learni...</td>\n",
       "      <td>NaN</td>\n",
       "      <td>PT1H24M11S</td>\n",
       "      <td>7002</td>\n",
       "      <td>302</td>\n",
       "      <td>9</td>\n",
       "      <td>25</td>\n",
       "      <td>2020-08-06T00:29:48Z</td>\n",
       "    </tr>\n",
       "    <tr>\n",
       "      <th>2</th>\n",
       "      <td>What does a head of data science look for in a...</td>\n",
       "      <td>[ken jee, daniel bourke, what questions get as...</td>\n",
       "      <td>PT1H1M6S</td>\n",
       "      <td>9081</td>\n",
       "      <td>450</td>\n",
       "      <td>8</td>\n",
       "      <td>34</td>\n",
       "      <td>2020-07-16T03:15:13Z</td>\n",
       "    </tr>\n",
       "    <tr>\n",
       "      <th>3</th>\n",
       "      <td>2020 Machine Learning Roadmap</td>\n",
       "      <td>[machine learning field guide, machine learnin...</td>\n",
       "      <td>PT2H37M14S</td>\n",
       "      <td>229860</td>\n",
       "      <td>12237</td>\n",
       "      <td>140</td>\n",
       "      <td>524</td>\n",
       "      <td>2020-07-12T15:00:12Z</td>\n",
       "    </tr>\n",
       "    <tr>\n",
       "      <th>4</th>\n",
       "      <td>One Neural Network to Rule Them All (and more)...</td>\n",
       "      <td>[zero to mastery, machine learning monthly, wh...</td>\n",
       "      <td>PT32M2S</td>\n",
       "      <td>5491</td>\n",
       "      <td>198</td>\n",
       "      <td>0</td>\n",
       "      <td>62</td>\n",
       "      <td>2020-07-06T10:30:06Z</td>\n",
       "    </tr>\n",
       "  </tbody>\n",
       "</table>\n",
       "</div>"
      ],
      "text/plain": [
       "                                       snippet.title  \\\n",
       "0  The future will not be supervised... | Machine...   \n",
       "1  Are courses enough for a job? | Machine learni...   \n",
       "2  What does a head of data science look for in a...   \n",
       "3                      2020 Machine Learning Roadmap   \n",
       "4  One Neural Network to Rule Them All (and more)...   \n",
       "\n",
       "                                        snippet.tags contentDetails.duration  \\\n",
       "0  [self supervised learning machine learning, ma...                PT26M28S   \n",
       "1                                                NaN              PT1H24M11S   \n",
       "2  [ken jee, daniel bourke, what questions get as...                PT1H1M6S   \n",
       "3  [machine learning field guide, machine learnin...              PT2H37M14S   \n",
       "4  [zero to mastery, machine learning monthly, wh...                 PT32M2S   \n",
       "\n",
       "  statistics.viewCount statistics.likeCount statistics.dislikeCount  \\\n",
       "0                 7088                  271                       1   \n",
       "1                 7002                  302                       9   \n",
       "2                 9081                  450                       8   \n",
       "3               229860                12237                     140   \n",
       "4                 5491                  198                       0   \n",
       "\n",
       "  statistics.commentCount   snippet.publishedAt  \n",
       "0                      35  2020-08-09T06:06:03Z  \n",
       "1                      25  2020-08-06T00:29:48Z  \n",
       "2                      34  2020-07-16T03:15:13Z  \n",
       "3                     524  2020-07-12T15:00:12Z  \n",
       "4                      62  2020-07-06T10:30:06Z  "
      ]
     },
     "execution_count": 14,
     "metadata": {},
     "output_type": "execute_result"
    }
   ],
   "source": [
    "# contining with most relavant columns\n",
    "df1 = df[['snippet.title', 'snippet.tags', 'contentDetails.duration',\n",
    "       'statistics.viewCount', 'statistics.likeCount', 'statistics.dislikeCount',\n",
    "        'statistics.commentCount', 'snippet.publishedAt']]\n",
    "#df1.ix['statistics.viewCount'] = df1['statistics.viewCount'].astype('int')\n",
    "df1.head()"
   ]
  },
  {
   "cell_type": "code",
   "execution_count": 15,
   "metadata": {},
   "outputs": [
    {
     "data": {
      "text/plain": [
       "0     [self supervised learning machine learning, ma...\n",
       "1                                                   NaN\n",
       "2     [ken jee, daniel bourke, what questions get as...\n",
       "3     [machine learning field guide, machine learnin...\n",
       "4     [zero to mastery, machine learning monthly, wh...\n",
       "                            ...                        \n",
       "46    [udacity, coding, python, programming, ai, art...\n",
       "47    [workout music 2016, workout motivation, worko...\n",
       "48    [cooking, recipes, vegetarian, snacks, protein...\n",
       "49    [DIY, fitness, exercise, pullupbar, snapchat, ...\n",
       "0     [xbox, xboxone, gaming, mlg, microsoft, xboxon...\n",
       "Name: snippet.tags, Length: 251, dtype: object"
      ]
     },
     "execution_count": 15,
     "metadata": {},
     "output_type": "execute_result"
    }
   ],
   "source": [
    "# analysing tags \n",
    "tagsds = df['snippet.tags']\n",
    "tagsds"
   ]
  },
  {
   "cell_type": "code",
   "execution_count": 16,
   "metadata": {},
   "outputs": [],
   "source": [
    "s = tagsds.apply(pd.Series).stack().reset_index(drop=True).value_counts()"
   ]
  },
  {
   "cell_type": "code",
   "execution_count": 17,
   "metadata": {},
   "outputs": [
    {
     "data": {
      "text/plain": [
       "daniel bourke                95\n",
       "fitness                      58\n",
       "machine learning engineer    56\n",
       "learning                     52\n",
       "vlog                         51\n",
       "                             ..\n",
       "of code                       1\n",
       "hosting                       1\n",
       "swim                          1\n",
       "first extended fast           1\n",
       "snacks                        1\n",
       "Length: 1687, dtype: int64"
      ]
     },
     "execution_count": 17,
     "metadata": {},
     "output_type": "execute_result"
    }
   ],
   "source": [
    "s"
   ]
  },
  {
   "cell_type": "code",
   "execution_count": 50,
   "metadata": {},
   "outputs": [
    {
     "data": {
      "text/plain": [
       "daniel bourke                                 95\n",
       "fitness                                       58\n",
       "machine learning engineer                     56\n",
       "learning                                      52\n",
       "vlog                                          51\n",
       "life                                          51\n",
       "podcast                                       51\n",
       "machine                                       49\n",
       "lessons                                       49\n",
       "entertainment                                 49\n",
       "Daniel Bourke                                 48\n",
       "The Daniel Bourke Show                        47\n",
       "fail                                          47\n",
       "college                                       47\n",
       "success                                       47\n",
       "university                                    47\n",
       "speaking                                      46\n",
       "Show                                          46\n",
       "The                                           46\n",
       "Bourke                                        46\n",
       "public                                        46\n",
       "Daniel                                        46\n",
       "drop out                                      46\n",
       "machine learning                              44\n",
       "mrdbourke                                     34\n",
       "artificial intelligence                       29\n",
       "udacity                                       24\n",
       "deep learning                                 23\n",
       "code                                          19\n",
       "data science                                  17\n",
       "udacity nanodegree                            16\n",
       "coursera                                      16\n",
       "coding                                        16\n",
       "python                                        16\n",
       "100 days of code                              16\n",
       "Udacity Artificial Intelligence Nanodegree    13\n",
       "nanodegree                                    13\n",
       "AI                                            13\n",
       "data scientist                                12\n",
       "udacity deep learning nanodegree              12\n",
       "ai                                            11\n",
       "dtype: int64"
      ]
     },
     "execution_count": 50,
     "metadata": {},
     "output_type": "execute_result"
    }
   ],
   "source": [
    "s[lambda x : x > 10].head(50)"
   ]
  },
  {
   "cell_type": "code",
   "execution_count": 19,
   "metadata": {},
   "outputs": [],
   "source": [
    "MLtags = ['machine learning engineer', 'machine', 'machine learning', 'artifical intelligence',\n",
    "         'udacity', 'deep learning', 'code', 'data science',]"
   ]
  },
  {
   "cell_type": "code",
   "execution_count": 49,
   "metadata": {},
   "outputs": [
    {
     "data": {
      "text/plain": [
       "<matplotlib.axes._subplots.AxesSubplot at 0x2b3d962db48>"
      ]
     },
     "execution_count": 49,
     "metadata": {},
     "output_type": "execute_result"
    },
    {
     "data": {
      "image/png": "[encoded data removed]",
      "text/plain": [
       "<Figure size 432x288 with 1 Axes>"
      ]
     },
     "metadata": {
      "needs_background": "light"
     },
     "output_type": "display_data"
    }
   ],
   "source": [
    "x = df1['statistics.viewCount']\n",
    "x = x.astype('int')\n",
    "x[x < 100000].plot.hist()"
   ]
  },
  {
   "cell_type": "code",
   "execution_count": 43,
   "metadata": {},
   "outputs": [
    {
     "data": {
      "text/plain": [
       "0       7088\n",
       "1       7002\n",
       "2       9081\n",
       "3     229860\n",
       "4       5491\n",
       "       ...  \n",
       "46      2784\n",
       "47       331\n",
       "48       354\n",
       "49       461\n",
       "0        250\n",
       "Name: statistics.viewCount, Length: 250, dtype: int32"
      ]
     },
     "execution_count": 43,
     "metadata": {},
     "output_type": "execute_result"
    }
   ],
   "source": []
  },
  {
   "cell_type": "code",
   "execution_count": 42,
   "metadata": {},
   "outputs": [
    {
     "data": {
      "text/html": [
       "<div>\n",
       "<style scoped>\n",
       "    .dataframe tbody tr th:only-of-type {\n",
       "        vertical-align: middle;\n",
       "    }\n",
       "\n",
       "    .dataframe tbody tr th {\n",
       "        vertical-align: top;\n",
       "    }\n",
       "\n",
       "    .dataframe thead th {\n",
       "        text-align: right;\n",
       "    }\n",
       "</style>\n",
       "<table border=\"1\" class=\"dataframe\">\n",
       "  <thead>\n",
       "    <tr style=\"text-align: right;\">\n",
       "      <th></th>\n",
       "      <th>snippet.title</th>\n",
       "      <th>snippet.tags</th>\n",
       "      <th>contentDetails.duration</th>\n",
       "      <th>statistics.viewCount</th>\n",
       "      <th>statistics.likeCount</th>\n",
       "      <th>statistics.dislikeCount</th>\n",
       "      <th>statistics.commentCount</th>\n",
       "      <th>snippet.publishedAt</th>\n",
       "    </tr>\n",
       "  </thead>\n",
       "  <tbody>\n",
       "    <tr>\n",
       "      <th>17</th>\n",
       "      <td>I didn't eat food for 4 days, here's what happ...</td>\n",
       "      <td>[what is like to do an extended fast?, intermi...</td>\n",
       "      <td>PT45M41S</td>\n",
       "      <td>426775</td>\n",
       "      <td>4907</td>\n",
       "      <td>490</td>\n",
       "      <td>934</td>\n",
       "      <td>2019-09-15T12:06:12Z</td>\n",
       "    </tr>\n",
       "  </tbody>\n",
       "</table>\n",
       "</div>"
      ],
      "text/plain": [
       "                                        snippet.title  \\\n",
       "17  I didn't eat food for 4 days, here's what happ...   \n",
       "\n",
       "                                         snippet.tags contentDetails.duration  \\\n",
       "17  [what is like to do an extended fast?, intermi...                PT45M41S   \n",
       "\n",
       "   statistics.viewCount statistics.likeCount statistics.dislikeCount  \\\n",
       "17               426775                 4907                     490   \n",
       "\n",
       "   statistics.commentCount   snippet.publishedAt  \n",
       "17                     934  2019-09-15T12:06:12Z  "
      ]
     },
     "execution_count": 42,
     "metadata": {},
     "output_type": "execute_result"
    }
   ],
   "source": [
    "df1[df1['statistics.viewCount']==str(x.max())]"
   ]
  },
  {
   "cell_type": "code",
   "execution_count": null,
   "metadata": {},
   "outputs": [],
   "source": []
  },
  {
   "cell_type": "code",
   "execution_count": null,
   "metadata": {},
   "outputs": [],
   "source": []
  },
  {
   "cell_type": "code",
   "execution_count": null,
   "metadata": {},
   "outputs": [],
   "source": []
  }
 ],
 "metadata": {
  "kernelspec": {
   "display_name": "Python 3",
   "language": "python",
   "name": "python3"
  },
  "language_info": {
   "codemirror_mode": {
    "name": "ipython",
    "version": 3
   },
   "file_extension": ".py",
   "mimetype": "text/x-python",
   "name": "python",
   "nbconvert_exporter": "python",
   "pygments_lexer": "ipython3",
   "version": "3.7.4"
  }
 },
 "nbformat": 4,
 "nbformat_minor": 4
}
